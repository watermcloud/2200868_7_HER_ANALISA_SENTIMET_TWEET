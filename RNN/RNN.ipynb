{
 "cells": [
  {
   "attachments": {},
   "cell_type": "markdown",
   "metadata": {},
   "source": [
    "# Recurent Neural Network (RNN)"
   ]
  },
  {
   "attachments": {},
   "cell_type": "markdown",
   "metadata": {},
   "source": [
    "RNNs are a type of neural network that can be used to model sequence data. RNNs, which are formed from feedforward networks, are similar to human brains in their behaviour. Simply said, recurrent neural networks can anticipate sequential data in a way that other algorithms can’t."
   ]
  },
  {
   "attachments": {},
   "cell_type": "markdown",
   "metadata": {},
   "source": [
    "![image](https://editor.analyticsvidhya.com/uploads/33870quora.png)"
   ]
  },
  {
   "attachments": {},
   "cell_type": "markdown",
   "metadata": {},
   "source": [
    "All of the inputs and outputs in standard neural networks are independent of one another, however in some circumstances, such as when predicting the next word of a phrase, the prior words are necessary, and so the previous words must be remembered. As a result, RNN was created, which used a Hidden Layer to overcome the problem. The most important component of RNN is the Hidden state, which remembers specific information about a sequence.\n",
    "\n",
    "RNNs have a Memory that stores all information about the calculations. It employs the same settings for each input since it produces the same outcome by performing the same task on all inputs or hidden layers."
   ]
  },
  {
   "attachments": {},
   "cell_type": "markdown",
   "metadata": {},
   "source": [
    "## Load Libraries and Dataset"
   ]
  },
  {
   "cell_type": "code",
   "execution_count": 24,
   "metadata": {},
   "outputs": [],
   "source": [
    "# Import required libraries\n",
    "\n",
    "import pandas as pd\n",
    "import numpy as np\n",
    "import seaborn as sns\n",
    "import matplotlib.pyplot as plt\n",
    "import sqlite3\n",
    "import pickle\n",
    "import re\n",
    "\n",
    "from collections import defaultdict\n",
    "from sklearn.model_selection import train_test_split, KFold\n",
    "from sklearn.metrics import classification_report, accuracy_score, confusion_matrix\n",
    "from tensorflow.keras.preprocessing.text import Tokenizer\n",
    "from tensorflow.keras.preprocessing.sequence import pad_sequences\n",
    "from tensorflow.keras.models import Sequential, load_model\n",
    "from tensorflow.keras.layers import Dense, Embedding, LSTM, SpatialDropout1D, SimpleRNN, Activation, Flatten\n",
    "from tensorflow.keras import optimizers, callbacks\n",
    "from tensorflow.keras import backend as K\n",
    "from tensorflow.keras.callbacks import EarlyStopping\n"
   ]
  },
  {
   "cell_type": "code",
   "execution_count": 25,
   "metadata": {},
   "outputs": [
    {
     "data": {
      "text/html": [
       "<div>\n",
       "<style scoped>\n",
       "    .dataframe tbody tr th:only-of-type {\n",
       "        vertical-align: middle;\n",
       "    }\n",
       "\n",
       "    .dataframe tbody tr th {\n",
       "        vertical-align: top;\n",
       "    }\n",
       "\n",
       "    .dataframe thead th {\n",
       "        text-align: right;\n",
       "    }\n",
       "</style>\n",
       "<table border=\"1\" class=\"dataframe\">\n",
       "  <thead>\n",
       "    <tr style=\"text-align: right;\">\n",
       "      <th></th>\n",
       "      <th>Tweet</th>\n",
       "      <th>Label</th>\n",
       "    </tr>\n",
       "  </thead>\n",
       "  <tbody>\n",
       "    <tr>\n",
       "      <th>0</th>\n",
       "      <td>warung ini dimiliki oleh pengusaha pabrik tahu...</td>\n",
       "      <td>positive</td>\n",
       "    </tr>\n",
       "    <tr>\n",
       "      <th>1</th>\n",
       "      <td>mohon ulama lurus dan k mmbri hujjah partai ap...</td>\n",
       "      <td>neutral</td>\n",
       "    </tr>\n",
       "    <tr>\n",
       "      <th>2</th>\n",
       "      <td>lokasi strategis di jalan sumatra bandung temp...</td>\n",
       "      <td>positive</td>\n",
       "    </tr>\n",
       "    <tr>\n",
       "      <th>3</th>\n",
       "      <td>betapa bahagia nya diri ini saat unboxing pake...</td>\n",
       "      <td>positive</td>\n",
       "    </tr>\n",
       "    <tr>\n",
       "      <th>4</th>\n",
       "      <td>aduh jadi mahasiswa jangan sombong dong kasih ...</td>\n",
       "      <td>negative</td>\n",
       "    </tr>\n",
       "    <tr>\n",
       "      <th>5</th>\n",
       "      <td>makanan beragam harga makanan di food stall ak...</td>\n",
       "      <td>positive</td>\n",
       "    </tr>\n",
       "    <tr>\n",
       "      <th>6</th>\n",
       "      <td>pakai kartu kredit baca tidak untung malah rug...</td>\n",
       "      <td>negative</td>\n",
       "    </tr>\n",
       "    <tr>\n",
       "      <th>7</th>\n",
       "      <td>tempat unik bagus buat foto makanan enak pegaw...</td>\n",
       "      <td>positive</td>\n",
       "    </tr>\n",
       "    <tr>\n",
       "      <th>8</th>\n",
       "      <td>saya bersama keluarga baru saja menikmati peng...</td>\n",
       "      <td>positive</td>\n",
       "    </tr>\n",
       "    <tr>\n",
       "      <th>9</th>\n",
       "      <td>bersyukur</td>\n",
       "      <td>positive</td>\n",
       "    </tr>\n",
       "  </tbody>\n",
       "</table>\n",
       "</div>"
      ],
      "text/plain": [
       "                                               Tweet     Label\n",
       "0  warung ini dimiliki oleh pengusaha pabrik tahu...  positive\n",
       "1  mohon ulama lurus dan k mmbri hujjah partai ap...   neutral\n",
       "2  lokasi strategis di jalan sumatra bandung temp...  positive\n",
       "3  betapa bahagia nya diri ini saat unboxing pake...  positive\n",
       "4  aduh jadi mahasiswa jangan sombong dong kasih ...  negative\n",
       "5  makanan beragam harga makanan di food stall ak...  positive\n",
       "6  pakai kartu kredit baca tidak untung malah rug...  negative\n",
       "7  tempat unik bagus buat foto makanan enak pegaw...  positive\n",
       "8  saya bersama keluarga baru saja menikmati peng...  positive\n",
       "9                                          bersyukur  positive"
      ]
     },
     "execution_count": 25,
     "metadata": {},
     "output_type": "execute_result"
    }
   ],
   "source": [
    "# Load dataset from database\n",
    "\n",
    "db = sqlite3.connect('C:/Users/HP/BInar/WAN PLATINUM/database.db', check_same_thread = False)\n",
    "q_data = 'SELECT * FROM data'\n",
    "data = pd.read_sql_query(q_data, db)\n",
    "data.head(10)"
   ]
  },
  {
   "cell_type": "code",
   "execution_count": 26,
   "metadata": {},
   "outputs": [
    {
     "data": {
      "text/plain": [
       "positive    6383\n",
       "negative    3412\n",
       "neutral     1138\n",
       "Name: Label, dtype: int64"
      ]
     },
     "execution_count": 26,
     "metadata": {},
     "output_type": "execute_result"
    }
   ],
   "source": [
    "# Data distribution check\n",
    "\n",
    "data['Label'].value_counts()"
   ]
  },
  {
   "attachments": {},
   "cell_type": "markdown",
   "metadata": {},
   "source": [
    "## Feature-Label Classification"
   ]
  },
  {
   "cell_type": "code",
   "execution_count": 27,
   "metadata": {},
   "outputs": [],
   "source": [
    "# Group data tweet\n",
    "\n",
    "positive_tweet = data.loc[data['Label']=='positive'].Tweet.tolist()\n",
    "negative_tweet = data.loc[data['Label']=='negative'].Tweet.tolist()\n",
    "neutral_tweet = data.loc[data['Label']=='neutral'].Tweet.tolist()\n",
    "\n",
    "# Group data label\n",
    "\n",
    "positive_label = data.loc[data['Label']=='positive'].Label.tolist()\n",
    "negative_label = data.loc[data['Label']=='negative'].Label.tolist()\n",
    "neutral_label = data.loc[data['Label']=='neutral'].Label.tolist()"
   ]
  },
  {
   "cell_type": "code",
   "execution_count": 28,
   "metadata": {},
   "outputs": [
    {
     "name": "stdout",
     "output_type": "stream",
     "text": [
      "Positive: 6383, Negative: 3412, Neutral: 1138\n",
      "Total data: 10933\n",
      "Total labels: 10933\n"
     ]
    }
   ],
   "source": [
    "# Final sentiment data check\n",
    "\n",
    "total_data = positive_tweet + negative_tweet + neutral_tweet\n",
    "labels = positive_label + neutral_label + negative_label\n",
    "\n",
    "print(\"Positive: %s, Negative: %s, Neutral: %s\" % (len(positive_tweet), len(negative_tweet), len(neutral_tweet)))\n",
    "print(\"Total data: %s\" % len(total_data))\n",
    "print(\"Total labels: %s\" % len(labels))"
   ]
  },
  {
   "attachments": {},
   "cell_type": "markdown",
   "metadata": {},
   "source": [
    "## Feature Extraction"
   ]
  },
  {
   "cell_type": "code",
   "execution_count": 29,
   "metadata": {},
   "outputs": [
    {
     "name": "stdout",
     "output_type": "stream",
     "text": [
      "tokenizer.pickle has been created!\n",
      "x_pad_sequences.pickle has been created!\n",
      "tokenizer.pickle has been created!\n"
     ]
    }
   ],
   "source": [
    "max_features = 5000\n",
    "tokenizer = Tokenizer(num_words=max_features, split=' ', lower=True)\n",
    "tokenizer.fit_on_texts(total_data)\n",
    "\n",
    "with open('tokenizer.pickle', 'wb') as handle:\n",
    "    pickle.dump(tokenizer, handle, protocol=pickle.HIGHEST_PROTOCOL)\n",
    "print(\"tokenizer.pickle has been created!\")\n",
    "\n",
    "X = tokenizer.texts_to_sequences(total_data)\n",
    "vocab_size = len(tokenizer.word_index)\n",
    "maxlen = max(len(x) for x in X)\n",
    "\n",
    "X = pad_sequences(X)\n",
    "\n",
    "with open('x_pad_sequences.pickle', 'wb') as handle:\n",
    "    pickle.dump(X, handle, protocol=pickle.HIGHEST_PROTOCOL)\n",
    "print(\"x_pad_sequences.pickle has been created!\")\n",
    "with open('tokenizer.pickle', 'wb') as handle:\n",
    "    pickle.dump(tokenizer, handle, protocol=pickle.HIGHEST_PROTOCOL)\n",
    "print(\"tokenizer.pickle has been created!\")\n"
   ]
  },
  {
   "cell_type": "code",
   "execution_count": 30,
   "metadata": {},
   "outputs": [
    {
     "name": "stdout",
     "output_type": "stream",
     "text": [
      "y_labels.pickle has created!\n"
     ]
    }
   ],
   "source": [
    "Y = pd.get_dummies(labels)\n",
    "Y = Y.values\n",
    "\n",
    "with open('y_labels.pickle', 'wb') as handle:\n",
    "    pickle.dump(Y, handle, protocol=pickle.HIGHEST_PROTOCOL)\n",
    "    print(\"y_labels.pickle has created!\")"
   ]
  },
  {
   "attachments": {},
   "cell_type": "markdown",
   "metadata": {},
   "source": [
    "## Train-Test Data Split"
   ]
  },
  {
   "cell_type": "code",
   "execution_count": 31,
   "metadata": {},
   "outputs": [],
   "source": [
    "with open(\"x_pad_sequences.pickle\", 'rb') as file:\n",
    "    X = pickle.load(file)\n",
    "\n",
    "with open(\"y_labels.pickle\", 'rb') as file:\n",
    "    Y = pickle.load(file)\n",
    "\n",
    "X_train, X_test, y_train, y_test = train_test_split(X, Y, test_size=0.2, random_state=42)\n"
   ]
  },
  {
   "attachments": {},
   "cell_type": "markdown",
   "metadata": {},
   "source": [
    "## Model Training"
   ]
  },
  {
   "attachments": {},
   "cell_type": "markdown",
   "metadata": {},
   "source": [
    "We will now train the RNN algorithm and perform 5-fold cross-validation to assess the stability of its performance."
   ]
  },
  {
   "cell_type": "code",
   "execution_count": 32,
   "metadata": {},
   "outputs": [
    {
     "name": "stdout",
     "output_type": "stream",
     "text": [
      "Epoch 1/50\n",
      "274/274 [==============================] - 16s 54ms/step - loss: 0.9323 - accuracy: 0.5749 - val_loss: 0.7726 - val_accuracy: 0.7243\n",
      "Epoch 2/50\n",
      "274/274 [==============================] - 15s 55ms/step - loss: 0.7554 - accuracy: 0.7151 - val_loss: 0.7256 - val_accuracy: 0.7380\n",
      "Epoch 3/50\n",
      "274/274 [==============================] - 14s 50ms/step - loss: 0.7090 - accuracy: 0.7375 - val_loss: 0.6749 - val_accuracy: 0.7558\n",
      "Epoch 4/50\n",
      "274/274 [==============================] - 13s 48ms/step - loss: 0.6467 - accuracy: 0.7631 - val_loss: 0.6187 - val_accuracy: 0.7673\n",
      "Epoch 5/50\n",
      "274/274 [==============================] - 14s 52ms/step - loss: 0.5986 - accuracy: 0.7741 - val_loss: 0.5901 - val_accuracy: 0.7764\n",
      "Epoch 6/50\n",
      "274/274 [==============================] - 14s 52ms/step - loss: 0.5679 - accuracy: 0.7825 - val_loss: 0.5787 - val_accuracy: 0.7705\n",
      "Epoch 7/50\n",
      "274/274 [==============================] - 14s 51ms/step - loss: 0.5497 - accuracy: 0.7903 - val_loss: 0.5602 - val_accuracy: 0.7805\n",
      "Epoch 8/50\n",
      "274/274 [==============================] - 14s 52ms/step - loss: 0.5281 - accuracy: 0.7950 - val_loss: 0.5528 - val_accuracy: 0.7814\n",
      "Epoch 9/50\n",
      "274/274 [==============================] - 15s 53ms/step - loss: 0.5088 - accuracy: 0.8009 - val_loss: 0.5482 - val_accuracy: 0.7888\n",
      "Epoch 10/50\n",
      "274/274 [==============================] - 16s 57ms/step - loss: 0.4962 - accuracy: 0.8055 - val_loss: 0.5361 - val_accuracy: 0.7878\n",
      "Epoch 11/50\n",
      "274/274 [==============================] - 15s 54ms/step - loss: 0.4795 - accuracy: 0.8115 - val_loss: 0.5375 - val_accuracy: 0.7938\n",
      "Epoch 12/50\n",
      "274/274 [==============================] - 15s 54ms/step - loss: 0.4694 - accuracy: 0.8180 - val_loss: 0.5307 - val_accuracy: 0.7942\n",
      "Epoch 13/50\n",
      "274/274 [==============================] - 15s 56ms/step - loss: 0.4572 - accuracy: 0.8180 - val_loss: 0.5246 - val_accuracy: 0.7901\n",
      "Epoch 14/50\n",
      "274/274 [==============================] - 16s 57ms/step - loss: 0.4425 - accuracy: 0.8237 - val_loss: 0.5228 - val_accuracy: 0.7888\n",
      "Epoch 15/50\n",
      "274/274 [==============================] - 15s 55ms/step - loss: 0.4298 - accuracy: 0.8252 - val_loss: 0.5282 - val_accuracy: 0.7888\n",
      "Epoch 16/50\n",
      "274/274 [==============================] - 16s 57ms/step - loss: 0.4231 - accuracy: 0.8290 - val_loss: 0.5227 - val_accuracy: 0.7906\n",
      "Epoch 17/50\n",
      "274/274 [==============================] - 16s 58ms/step - loss: 0.4109 - accuracy: 0.8349 - val_loss: 0.5084 - val_accuracy: 0.7965\n",
      "Epoch 18/50\n",
      "274/274 [==============================] - 16s 58ms/step - loss: 0.3998 - accuracy: 0.8387 - val_loss: 0.5159 - val_accuracy: 0.8011\n",
      "Epoch 19/50\n",
      "274/274 [==============================] - 16s 58ms/step - loss: 0.3950 - accuracy: 0.8389 - val_loss: 0.5208 - val_accuracy: 0.7897\n",
      "Epoch 19: early stopping\n",
      "WARNING:tensorflow:5 out of the last 73 calls to <function Model.make_predict_function.<locals>.predict_function at 0x000001FF3A3DCAF0> triggered tf.function retracing. Tracing is expensive and the excessive number of tracings could be due to (1) creating @tf.function repeatedly in a loop, (2) passing tensors with different shapes, (3) passing Python objects instead of tensors. For (1), please define your @tf.function outside of the loop. For (2), @tf.function has reduce_retracing=True option that can avoid unnecessary retracing. For (3), please refer to https://www.tensorflow.org/guide/function#controlling_retracing and https://www.tensorflow.org/api_docs/python/tf/function for  more details.\n",
      "69/69 [==============================] - 1s 7ms/step\n",
      "Training - 1\n",
      "              precision    recall  f1-score   support\n",
      "\n",
      "           0       0.62      0.92      0.74       681\n",
      "           1       0.00      0.00      0.00       235\n",
      "           2       0.93      0.87      0.90      1271\n",
      "\n",
      "    accuracy                           0.79      2187\n",
      "   macro avg       0.52      0.60      0.55      2187\n",
      "weighted avg       0.74      0.79      0.75      2187\n",
      "\n",
      "======================================================\n",
      "Epoch 1/50\n",
      "274/274 [==============================] - 18s 60ms/step - loss: 0.9621 - accuracy: 0.5386 - val_loss: 0.8119 - val_accuracy: 0.7188\n",
      "Epoch 2/50\n",
      "274/274 [==============================] - 16s 60ms/step - loss: 0.7801 - accuracy: 0.6768 - val_loss: 0.7095 - val_accuracy: 0.7435\n",
      "Epoch 3/50\n",
      "274/274 [==============================] - 15s 53ms/step - loss: 0.6826 - accuracy: 0.7467 - val_loss: 0.6530 - val_accuracy: 0.7577\n",
      "Epoch 4/50\n",
      "274/274 [==============================] - 15s 54ms/step - loss: 0.6318 - accuracy: 0.7617 - val_loss: 0.6216 - val_accuracy: 0.7673\n",
      "Epoch 5/50\n",
      "274/274 [==============================] - 15s 54ms/step - loss: 0.5972 - accuracy: 0.7741 - val_loss: 0.6000 - val_accuracy: 0.7727\n",
      "Epoch 6/50\n",
      "274/274 [==============================] - 15s 54ms/step - loss: 0.5684 - accuracy: 0.7869 - val_loss: 0.5819 - val_accuracy: 0.7769\n",
      "Epoch 7/50\n",
      "274/274 [==============================] - 15s 54ms/step - loss: 0.5432 - accuracy: 0.7901 - val_loss: 0.5729 - val_accuracy: 0.7782\n",
      "Epoch 8/50\n",
      "274/274 [==============================] - 15s 55ms/step - loss: 0.5304 - accuracy: 0.7936 - val_loss: 0.5640 - val_accuracy: 0.7769\n",
      "Epoch 9/50\n",
      "274/274 [==============================] - 15s 55ms/step - loss: 0.5118 - accuracy: 0.8006 - val_loss: 0.5511 - val_accuracy: 0.7801\n",
      "Epoch 10/50\n",
      "274/274 [==============================] - 15s 55ms/step - loss: 0.5015 - accuracy: 0.8032 - val_loss: 0.5440 - val_accuracy: 0.7824\n",
      "Epoch 11/50\n",
      "274/274 [==============================] - 15s 55ms/step - loss: 0.4822 - accuracy: 0.8081 - val_loss: 0.5595 - val_accuracy: 0.7764\n",
      "Epoch 12/50\n",
      "274/274 [==============================] - 15s 55ms/step - loss: 0.4690 - accuracy: 0.8134 - val_loss: 0.5385 - val_accuracy: 0.7814\n",
      "Epoch 13/50\n",
      "274/274 [==============================] - 15s 56ms/step - loss: 0.4591 - accuracy: 0.8159 - val_loss: 0.5319 - val_accuracy: 0.7920\n",
      "Epoch 14/50\n",
      "274/274 [==============================] - 16s 57ms/step - loss: 0.4514 - accuracy: 0.8183 - val_loss: 0.5291 - val_accuracy: 0.7865\n",
      "Epoch 15/50\n",
      "274/274 [==============================] - 15s 56ms/step - loss: 0.4352 - accuracy: 0.8237 - val_loss: 0.5275 - val_accuracy: 0.7856\n",
      "Epoch 16/50\n",
      "274/274 [==============================] - 15s 56ms/step - loss: 0.4250 - accuracy: 0.8315 - val_loss: 0.5366 - val_accuracy: 0.7828\n",
      "Epoch 17/50\n",
      "274/274 [==============================] - 16s 59ms/step - loss: 0.4193 - accuracy: 0.8290 - val_loss: 0.5250 - val_accuracy: 0.7929\n",
      "Epoch 18/50\n",
      "274/274 [==============================] - 16s 57ms/step - loss: 0.4170 - accuracy: 0.8327 - val_loss: 0.5149 - val_accuracy: 0.7988\n",
      "Epoch 19/50\n",
      "274/274 [==============================] - 16s 58ms/step - loss: 0.4004 - accuracy: 0.8403 - val_loss: 0.5185 - val_accuracy: 0.8002\n",
      "Epoch 20/50\n",
      "274/274 [==============================] - 15s 56ms/step - loss: 0.3911 - accuracy: 0.8398 - val_loss: 0.5180 - val_accuracy: 0.7997\n",
      "Epoch 20: early stopping\n",
      "69/69 [==============================] - 1s 7ms/step\n",
      "Training - 2\n",
      "              precision    recall  f1-score   support\n",
      "\n",
      "           0       0.64      0.89      0.75       681\n",
      "           1       0.00      0.00      0.00       235\n",
      "           2       0.92      0.90      0.91      1271\n",
      "\n",
      "    accuracy                           0.80      2187\n",
      "   macro avg       0.52      0.60      0.55      2187\n",
      "weighted avg       0.73      0.80      0.76      2187\n",
      "\n",
      "======================================================\n",
      "Epoch 1/50\n",
      "274/274 [==============================] - 17s 59ms/step - loss: 0.8917 - accuracy: 0.5975 - val_loss: 0.7576 - val_accuracy: 0.7074\n",
      "Epoch 2/50\n",
      "274/274 [==============================] - 13s 47ms/step - loss: 0.7435 - accuracy: 0.7155 - val_loss: 0.7016 - val_accuracy: 0.7426\n",
      "Epoch 3/50\n",
      "274/274 [==============================] - 13s 47ms/step - loss: 0.6835 - accuracy: 0.7449 - val_loss: 0.6457 - val_accuracy: 0.7650\n",
      "Epoch 4/50\n",
      "274/274 [==============================] - 13s 46ms/step - loss: 0.6207 - accuracy: 0.7695 - val_loss: 0.6008 - val_accuracy: 0.7714\n",
      "Epoch 5/50\n",
      "274/274 [==============================] - 13s 46ms/step - loss: 0.5837 - accuracy: 0.7781 - val_loss: 0.5818 - val_accuracy: 0.7737\n",
      "Epoch 6/50\n",
      "274/274 [==============================] - 13s 46ms/step - loss: 0.5515 - accuracy: 0.7872 - val_loss: 0.5660 - val_accuracy: 0.7801\n",
      "Epoch 7/50\n",
      "274/274 [==============================] - 13s 46ms/step - loss: 0.5270 - accuracy: 0.7935 - val_loss: 0.5611 - val_accuracy: 0.7805\n",
      "Epoch 8/50\n",
      "274/274 [==============================] - 13s 46ms/step - loss: 0.5106 - accuracy: 0.7991 - val_loss: 0.5507 - val_accuracy: 0.7814\n",
      "Epoch 9/50\n",
      "274/274 [==============================] - 13s 47ms/step - loss: 0.4978 - accuracy: 0.8045 - val_loss: 0.5448 - val_accuracy: 0.7837\n",
      "Epoch 10/50\n",
      "274/274 [==============================] - 13s 46ms/step - loss: 0.4800 - accuracy: 0.8117 - val_loss: 0.5386 - val_accuracy: 0.7837\n",
      "Epoch 11/50\n",
      "274/274 [==============================] - 13s 47ms/step - loss: 0.4750 - accuracy: 0.8100 - val_loss: 0.5368 - val_accuracy: 0.7878\n",
      "Epoch 12/50\n",
      "274/274 [==============================] - 13s 46ms/step - loss: 0.4561 - accuracy: 0.8168 - val_loss: 0.5266 - val_accuracy: 0.7929\n",
      "Epoch 13/50\n",
      "274/274 [==============================] - 13s 46ms/step - loss: 0.4522 - accuracy: 0.8199 - val_loss: 0.5253 - val_accuracy: 0.7888\n",
      "Epoch 14/50\n",
      "274/274 [==============================] - 13s 46ms/step - loss: 0.4327 - accuracy: 0.8228 - val_loss: 0.5223 - val_accuracy: 0.7874\n",
      "Epoch 15/50\n",
      "274/274 [==============================] - 13s 46ms/step - loss: 0.4281 - accuracy: 0.8269 - val_loss: 0.5213 - val_accuracy: 0.7920\n",
      "Epoch 16/50\n",
      "274/274 [==============================] - 13s 47ms/step - loss: 0.4156 - accuracy: 0.8320 - val_loss: 0.5168 - val_accuracy: 0.7929\n",
      "Epoch 17/50\n",
      "274/274 [==============================] - 13s 46ms/step - loss: 0.4077 - accuracy: 0.8330 - val_loss: 0.5175 - val_accuracy: 0.7938\n",
      "Epoch 18/50\n",
      "274/274 [==============================] - 13s 46ms/step - loss: 0.3961 - accuracy: 0.8386 - val_loss: 0.5162 - val_accuracy: 0.7929\n",
      "Epoch 19/50\n",
      "274/274 [==============================] - 13s 46ms/step - loss: 0.3945 - accuracy: 0.8360 - val_loss: 0.5183 - val_accuracy: 0.7961\n",
      "Epoch 20/50\n",
      "274/274 [==============================] - 13s 47ms/step - loss: 0.3850 - accuracy: 0.8402 - val_loss: 0.5229 - val_accuracy: 0.7974\n",
      "Epoch 20: early stopping\n",
      "69/69 [==============================] - 1s 6ms/step\n",
      "Training - 3\n",
      "              precision    recall  f1-score   support\n",
      "\n",
      "           0       0.64      0.89      0.75       681\n",
      "           1       0.00      0.00      0.00       235\n",
      "           2       0.91      0.90      0.90      1271\n",
      "\n",
      "    accuracy                           0.80      2187\n",
      "   macro avg       0.52      0.59      0.55      2187\n",
      "weighted avg       0.73      0.80      0.76      2187\n",
      "\n",
      "======================================================\n",
      "Epoch 1/50\n"
     ]
    },
    {
     "name": "stderr",
     "output_type": "stream",
     "text": [
      "c:\\Users\\HP\\anaconda3\\envs\\envawan-8\\lib\\site-packages\\sklearn\\metrics\\_classification.py:1344: UndefinedMetricWarning: Precision and F-score are ill-defined and being set to 0.0 in labels with no predicted samples. Use `zero_division` parameter to control this behavior.\n",
      "  _warn_prf(average, modifier, msg_start, len(result))\n",
      "c:\\Users\\HP\\anaconda3\\envs\\envawan-8\\lib\\site-packages\\sklearn\\metrics\\_classification.py:1344: UndefinedMetricWarning: Precision and F-score are ill-defined and being set to 0.0 in labels with no predicted samples. Use `zero_division` parameter to control this behavior.\n",
      "  _warn_prf(average, modifier, msg_start, len(result))\n",
      "c:\\Users\\HP\\anaconda3\\envs\\envawan-8\\lib\\site-packages\\sklearn\\metrics\\_classification.py:1344: UndefinedMetricWarning: Precision and F-score are ill-defined and being set to 0.0 in labels with no predicted samples. Use `zero_division` parameter to control this behavior.\n",
      "  _warn_prf(average, modifier, msg_start, len(result))\n"
     ]
    },
    {
     "name": "stdout",
     "output_type": "stream",
     "text": [
      "274/274 [==============================] - 13s 45ms/step - loss: 0.8904 - accuracy: 0.6024 - val_loss: 0.7663 - val_accuracy: 0.7151\n",
      "Epoch 2/50\n",
      "274/274 [==============================] - 12s 44ms/step - loss: 0.7473 - accuracy: 0.7176 - val_loss: 0.7189 - val_accuracy: 0.7407\n",
      "Epoch 3/50\n",
      "274/274 [==============================] - 12s 44ms/step - loss: 0.6974 - accuracy: 0.7434 - val_loss: 0.6656 - val_accuracy: 0.7558\n",
      "Epoch 4/50\n",
      "274/274 [==============================] - 12s 44ms/step - loss: 0.6430 - accuracy: 0.7609 - val_loss: 0.6149 - val_accuracy: 0.7705\n",
      "Epoch 5/50\n",
      "274/274 [==============================] - 13s 47ms/step - loss: 0.5965 - accuracy: 0.7756 - val_loss: 0.5885 - val_accuracy: 0.7764\n",
      "Epoch 6/50\n",
      "274/274 [==============================] - 12s 44ms/step - loss: 0.5631 - accuracy: 0.7866 - val_loss: 0.5738 - val_accuracy: 0.7773\n",
      "Epoch 7/50\n",
      "274/274 [==============================] - 12s 45ms/step - loss: 0.5426 - accuracy: 0.7924 - val_loss: 0.5612 - val_accuracy: 0.7787\n",
      "Epoch 8/50\n",
      "274/274 [==============================] - 12s 43ms/step - loss: 0.5210 - accuracy: 0.7966 - val_loss: 0.5535 - val_accuracy: 0.7842\n",
      "Epoch 9/50\n",
      "274/274 [==============================] - 12s 44ms/step - loss: 0.5108 - accuracy: 0.8012 - val_loss: 0.5475 - val_accuracy: 0.7837\n",
      "Epoch 10/50\n",
      "274/274 [==============================] - 12s 43ms/step - loss: 0.4971 - accuracy: 0.8064 - val_loss: 0.5404 - val_accuracy: 0.7860\n",
      "Epoch 11/50\n",
      "274/274 [==============================] - 12s 44ms/step - loss: 0.4772 - accuracy: 0.8117 - val_loss: 0.5328 - val_accuracy: 0.7865\n",
      "Epoch 12/50\n",
      "274/274 [==============================] - 12s 43ms/step - loss: 0.4683 - accuracy: 0.8159 - val_loss: 0.5259 - val_accuracy: 0.7906\n",
      "Epoch 13/50\n",
      "274/274 [==============================] - 12s 44ms/step - loss: 0.4507 - accuracy: 0.8195 - val_loss: 0.5196 - val_accuracy: 0.7942\n",
      "Epoch 14/50\n",
      "274/274 [==============================] - 12s 44ms/step - loss: 0.4402 - accuracy: 0.8284 - val_loss: 0.5159 - val_accuracy: 0.7961\n",
      "Epoch 15/50\n",
      "274/274 [==============================] - 12s 44ms/step - loss: 0.4335 - accuracy: 0.8286 - val_loss: 0.5174 - val_accuracy: 0.7961\n",
      "Epoch 16/50\n",
      "274/274 [==============================] - 12s 44ms/step - loss: 0.4246 - accuracy: 0.8315 - val_loss: 0.5073 - val_accuracy: 0.7984\n",
      "Epoch 17/50\n",
      "274/274 [==============================] - 12s 44ms/step - loss: 0.4102 - accuracy: 0.8380 - val_loss: 0.5131 - val_accuracy: 0.8020\n",
      "Epoch 18/50\n",
      "274/274 [==============================] - 12s 44ms/step - loss: 0.4011 - accuracy: 0.8352 - val_loss: 0.5052 - val_accuracy: 0.8006\n",
      "Epoch 19/50\n",
      "274/274 [==============================] - 12s 44ms/step - loss: 0.3954 - accuracy: 0.8419 - val_loss: 0.5150 - val_accuracy: 0.7974\n",
      "Epoch 20/50\n",
      "274/274 [==============================] - 12s 44ms/step - loss: 0.3829 - accuracy: 0.8439 - val_loss: 0.5135 - val_accuracy: 0.8016\n",
      "Epoch 20: early stopping\n",
      "69/69 [==============================] - 0s 5ms/step\n",
      "Training - 4\n",
      "              precision    recall  f1-score   support\n",
      "\n",
      "           0       0.66      0.86      0.75       681\n",
      "           1       0.00      0.00      0.00       235\n",
      "           2       0.90      0.92      0.91      1271\n",
      "\n",
      "    accuracy                           0.80      2187\n",
      "   macro avg       0.52      0.59      0.55      2187\n",
      "weighted avg       0.73      0.80      0.76      2187\n",
      "\n",
      "======================================================\n",
      "Epoch 1/50\n"
     ]
    },
    {
     "name": "stderr",
     "output_type": "stream",
     "text": [
      "c:\\Users\\HP\\anaconda3\\envs\\envawan-8\\lib\\site-packages\\sklearn\\metrics\\_classification.py:1344: UndefinedMetricWarning: Precision and F-score are ill-defined and being set to 0.0 in labels with no predicted samples. Use `zero_division` parameter to control this behavior.\n",
      "  _warn_prf(average, modifier, msg_start, len(result))\n",
      "c:\\Users\\HP\\anaconda3\\envs\\envawan-8\\lib\\site-packages\\sklearn\\metrics\\_classification.py:1344: UndefinedMetricWarning: Precision and F-score are ill-defined and being set to 0.0 in labels with no predicted samples. Use `zero_division` parameter to control this behavior.\n",
      "  _warn_prf(average, modifier, msg_start, len(result))\n",
      "c:\\Users\\HP\\anaconda3\\envs\\envawan-8\\lib\\site-packages\\sklearn\\metrics\\_classification.py:1344: UndefinedMetricWarning: Precision and F-score are ill-defined and being set to 0.0 in labels with no predicted samples. Use `zero_division` parameter to control this behavior.\n",
      "  _warn_prf(average, modifier, msg_start, len(result))\n"
     ]
    },
    {
     "name": "stdout",
     "output_type": "stream",
     "text": [
      "274/274 [==============================] - 13s 45ms/step - loss: 0.9110 - accuracy: 0.5748 - val_loss: 0.7620 - val_accuracy: 0.6978\n",
      "Epoch 2/50\n",
      "274/274 [==============================] - 12s 44ms/step - loss: 0.7402 - accuracy: 0.7129 - val_loss: 0.6923 - val_accuracy: 0.7485\n",
      "Epoch 3/50\n",
      "274/274 [==============================] - 12s 44ms/step - loss: 0.6854 - accuracy: 0.7386 - val_loss: 0.6724 - val_accuracy: 0.7403\n",
      "Epoch 4/50\n",
      "274/274 [==============================] - 12s 44ms/step - loss: 0.6396 - accuracy: 0.7595 - val_loss: 0.6221 - val_accuracy: 0.7732\n",
      "Epoch 5/50\n",
      "274/274 [==============================] - 12s 44ms/step - loss: 0.6038 - accuracy: 0.7718 - val_loss: 0.6052 - val_accuracy: 0.7755\n",
      "Epoch 6/50\n",
      "274/274 [==============================] - 12s 44ms/step - loss: 0.5787 - accuracy: 0.7805 - val_loss: 0.5923 - val_accuracy: 0.7769\n",
      "Epoch 7/50\n",
      "274/274 [==============================] - 12s 43ms/step - loss: 0.5498 - accuracy: 0.7846 - val_loss: 0.5779 - val_accuracy: 0.7764\n",
      "Epoch 8/50\n",
      "274/274 [==============================] - 12s 44ms/step - loss: 0.5352 - accuracy: 0.7914 - val_loss: 0.5678 - val_accuracy: 0.7837\n",
      "Epoch 9/50\n",
      "274/274 [==============================] - 12s 44ms/step - loss: 0.5178 - accuracy: 0.7974 - val_loss: 0.5630 - val_accuracy: 0.7869\n",
      "Epoch 10/50\n",
      "274/274 [==============================] - 12s 45ms/step - loss: 0.5003 - accuracy: 0.8052 - val_loss: 0.5537 - val_accuracy: 0.7901\n",
      "Epoch 11/50\n",
      "274/274 [==============================] - 12s 44ms/step - loss: 0.4863 - accuracy: 0.8072 - val_loss: 0.5468 - val_accuracy: 0.7901\n",
      "Epoch 12/50\n",
      "274/274 [==============================] - 12s 44ms/step - loss: 0.4760 - accuracy: 0.8148 - val_loss: 0.5398 - val_accuracy: 0.7915\n",
      "Epoch 13/50\n",
      "274/274 [==============================] - 12s 44ms/step - loss: 0.4673 - accuracy: 0.8136 - val_loss: 0.5319 - val_accuracy: 0.7920\n",
      "Epoch 14/50\n",
      "274/274 [==============================] - 12s 44ms/step - loss: 0.4494 - accuracy: 0.8190 - val_loss: 0.5287 - val_accuracy: 0.7952\n",
      "Epoch 15/50\n",
      "274/274 [==============================] - 12s 44ms/step - loss: 0.4419 - accuracy: 0.8236 - val_loss: 0.5198 - val_accuracy: 0.7947\n",
      "Epoch 16/50\n",
      "274/274 [==============================] - 12s 44ms/step - loss: 0.4278 - accuracy: 0.8278 - val_loss: 0.5241 - val_accuracy: 0.7952\n",
      "Epoch 17/50\n",
      "274/274 [==============================] - 12s 43ms/step - loss: 0.4244 - accuracy: 0.8283 - val_loss: 0.5196 - val_accuracy: 0.7956\n",
      "Epoch 18/50\n",
      "274/274 [==============================] - 12s 43ms/step - loss: 0.4086 - accuracy: 0.8331 - val_loss: 0.5298 - val_accuracy: 0.7970\n",
      "Epoch 19/50\n",
      "274/274 [==============================] - 12s 44ms/step - loss: 0.4028 - accuracy: 0.8355 - val_loss: 0.5269 - val_accuracy: 0.7956\n",
      "Epoch 19: early stopping\n",
      "69/69 [==============================] - 1s 6ms/step\n",
      "Training - 5\n",
      "              precision    recall  f1-score   support\n",
      "\n",
      "           0       0.64      0.89      0.75       681\n",
      "           1       0.00      0.00      0.00       235\n",
      "           2       0.92      0.89      0.90      1271\n",
      "\n",
      "    accuracy                           0.80      2187\n",
      "   macro avg       0.52      0.59      0.55      2187\n",
      "weighted avg       0.73      0.80      0.76      2187\n",
      "\n",
      "======================================================\n",
      "\n",
      "\n",
      "\n",
      "Rata-rata Accuracy:  0.7968\n"
     ]
    }
   ],
   "source": [
    "# Model Training Cross Validation\n",
    "\n",
    "kf = KFold(n_splits=5,random_state=42,shuffle=True)\n",
    "\n",
    "accuracies = []\n",
    "\n",
    "y = Y\n",
    "\n",
    "embed_dim = 100 \n",
    "\n",
    "units = 64\n",
    "\n",
    "for iteration, data in enumerate(kf.split(X), start=1):\n",
    "\n",
    "    data_train   = X[data[0]]\n",
    "    target_train = y[data[0]]\n",
    "\n",
    "    data_test    = X[data[1]]\n",
    "    target_test  = y[data[1]]\n",
    "    \n",
    "    # Create model architecture\n",
    "\n",
    "    model = Sequential()\n",
    "    model.add(Embedding(max_features, embed_dim, input_length=X.shape[1]))\n",
    "    model.add(SimpleRNN(units, dropout=0.8 ))\n",
    "    model.add(Dense(3,activation='softmax'))\n",
    "\n",
    "    # model.compile(loss = 'categorical_crossentropy', optimizer='adam', metrics = ['accuracy'])\n",
    "\n",
    "    adam = optimizers.Adam(learning_rate = 0.00005 )\n",
    "    model.compile(loss = 'categorical_crossentropy', optimizer = adam, metrics = ['accuracy'])\n",
    "\n",
    "    es = EarlyStopping(monitor='val_loss', mode='min', verbose=1, patience=2)\n",
    "    history = model.fit(X_train, y_train, epochs=50, batch_size=32, \n",
    "                        validation_data=(X_test, y_test), verbose=1, callbacks=[es])\n",
    "\n",
    "    predictions = model.predict(X_test)\n",
    "    y_pred = predictions\n",
    "\n",
    "    # for the current fold only\n",
    "    \n",
    "    accuracy = accuracy_score(y_test.argmax(axis=1), y_pred.argmax(axis=1))\n",
    "\n",
    "    print(\"Training -\", iteration)\n",
    "    print(classification_report(y_test.argmax(axis=1), y_pred.argmax(axis=1)))\n",
    "    print(\"======================================================\")\n",
    "\n",
    "    accuracies.append(accuracy)\n",
    "\n",
    "# this is the average accuracy over all folds\n",
    "\n",
    "average_accuracy = np.mean(accuracies)\n",
    "\n",
    "print()\n",
    "print()\n",
    "print()\n",
    "print(\"Rata-rata Accuracy: \", round(average_accuracy,4))\n"
   ]
  },
  {
   "attachments": {},
   "cell_type": "markdown",
   "metadata": {},
   "source": [
    "## Evaluation"
   ]
  },
  {
   "cell_type": "code",
   "execution_count": 33,
   "metadata": {},
   "outputs": [
    {
     "data": {
      "image/png": "[encoded data removed]",
      "text/plain": [
       "<Figure size 1200x500 with 2 Axes>"
      ]
     },
     "metadata": {},
     "output_type": "display_data"
    }
   ],
   "source": [
    "plt.style.use('ggplot')\n",
    "\n",
    "def plot_history(history):\n",
    "    acc = history.history['accuracy']\n",
    "    val_acc = history.history['val_accuracy']\n",
    "    loss = history.history['loss']\n",
    "    val_loss = history.history['val_loss']\n",
    "    epochs = range(1, len(acc) + 1)\n",
    "\n",
    "    plt.figure(figsize=(12, 5))\n",
    "\n",
    "    plt.subplot(1, 2, 1)\n",
    "    plt.plot(epochs, acc, 'b', label='Training Accuracy')\n",
    "    plt.plot(epochs, val_acc, 'r', label='Validation Accuracy')\n",
    "    plt.title('Training and Validation Accuracy')\n",
    "    plt.xlabel('Epochs')\n",
    "    plt.ylabel('Accuracy')\n",
    "    plt.legend()\n",
    "\n",
    "    plt.subplot(1, 2, 2)\n",
    "    plt.plot(epochs, loss, 'b', label='Training Loss')\n",
    "    plt.plot(epochs, val_loss, 'r', label='Validation Loss')\n",
    "    plt.title('Training and Validation Loss')\n",
    "    plt.xlabel('Epochs')\n",
    "    plt.ylabel('Loss')\n",
    "    plt.legend()\n",
    "\n",
    "    plt.tight_layout()\n",
    "    plt.show()\n",
    "\n",
    "%matplotlib inline\n",
    "plot_history(history)\n"
   ]
  },
  {
   "attachments": {},
   "cell_type": "markdown",
   "metadata": {},
   "source": [
    "- The model achieved a stable accuracy of 79.84% with 5-fold cross validation.\n",
    "- The first epoch showed the best performance with minimal loss.\n",
    "- In most cases, the model training stopped after the seventeen epoch."
   ]
  },
  {
   "cell_type": "code",
   "execution_count": 34,
   "metadata": {},
   "outputs": [
    {
     "name": "stdout",
     "output_type": "stream",
     "text": [
      "Model has created!\n"
     ]
    }
   ],
   "source": [
    "# Save the model\n",
    "\n",
    "model.save('model.h5')\n",
    "print(\"Model has created!\")"
   ]
  },
  {
   "cell_type": "code",
   "execution_count": 35,
   "metadata": {},
   "outputs": [
    {
     "name": "stdout",
     "output_type": "stream",
     "text": [
      "1/1 [==============================] - 0s 131ms/step\n",
      "Text:  makanannya enak  \n",
      "Sentiment: positive\n"
     ]
    }
   ],
   "source": [
    "input_text = \"\"\"\n",
    "Makanannya enak  \"\"\"\n",
    "\n",
    "def cleansing(sent):\n",
    "    string = sent.lower()\n",
    "    string = re.sub(r'[^a-zA-Z0-9]', ' ', string)\n",
    "    return string\n",
    "\n",
    "sentiment = ['negative', 'neutral', 'positive']\n",
    "\n",
    "text = [cleansing(input_text)]\n",
    "predicted = tokenizer.texts_to_sequences(text)\n",
    "guess = pad_sequences(predicted, maxlen=X.shape[1])\n",
    "\n",
    "model = load_model('model.h5')\n",
    "prediction = model.predict(guess)\n",
    "polarity = np.argmax(prediction[0])\n",
    "hasil = sentiment[polarity]\n",
    "\n",
    "print(\"Text: %s\" % text[0])\n",
    "print(\"Sentiment: %s\" % sentiment[polarity])"
   ]
  },
  {
   "cell_type": "code",
   "execution_count": 36,
   "metadata": {},
   "outputs": [
    {
     "name": "stdout",
     "output_type": "stream",
     "text": [
      "1/1 [==============================] - 0s 143ms/step\n",
      "Text:  biasa aja musiknya  \n",
      "Sentiment: negative\n"
     ]
    }
   ],
   "source": [
    "input_text = \"\"\"\n",
    "Biasa aja musiknya  \"\"\"\n",
    "\n",
    "def cleansing(sent):\n",
    "    string = sent.lower()\n",
    "    string = re.sub(r'[^a-zA-Z0-9]', ' ', string)\n",
    "    return string\n",
    "\n",
    "sentiment = ['negative', 'neutral', 'positive']\n",
    "\n",
    "text = [cleansing(input_text)]\n",
    "predicted = tokenizer.texts_to_sequences(text)\n",
    "guess = pad_sequences(predicted, maxlen=X.shape[1])\n",
    "\n",
    "model = load_model('model.h5')\n",
    "prediction = model.predict(guess)\n",
    "polarity = np.argmax(prediction[0])\n",
    "hasil = sentiment[polarity]\n",
    "\n",
    "print(\"Text: %s\" % text[0])\n",
    "print(\"Sentiment: %s\" % sentiment[polarity])"
   ]
  },
  {
   "cell_type": "code",
   "execution_count": 37,
   "metadata": {},
   "outputs": [
    {
     "name": "stdout",
     "output_type": "stream",
     "text": [
      "1/1 [==============================] - 0s 154ms/step\n",
      "Text:  payah kamu  \n",
      "Sentiment: negative\n"
     ]
    }
   ],
   "source": [
    "input_text = \"\"\"\n",
    "Payah kamu  \"\"\"\n",
    "\n",
    "def cleansing(sent):\n",
    "    string = sent.lower()\n",
    "    string = re.sub(r'[^a-zA-Z0-9]', ' ', string)\n",
    "    return string\n",
    "\n",
    "sentiment = ['negative', 'neutral', 'positive']\n",
    "\n",
    "text = [cleansing(input_text)]\n",
    "predicted = tokenizer.texts_to_sequences(text)\n",
    "guess = pad_sequences(predicted, maxlen=X.shape[1])\n",
    "\n",
    "model = load_model('model.h5')\n",
    "prediction = model.predict(guess)\n",
    "polarity = np.argmax(prediction[0])\n",
    "hasil = sentiment[polarity]\n",
    "\n",
    "print(\"Text: %s\" % text[0])\n",
    "print(\"Sentiment: %s\" % sentiment[polarity])"
   ]
  }
 ],
 "metadata": {
  "kernelspec": {
   "display_name": "envawan-8",
   "language": "python",
   "name": "python3"
  },
  "language_info": {
   "codemirror_mode": {
    "name": "ipython",
    "version": 3
   },
   "file_extension": ".py",
   "mimetype": "text/x-python",
   "name": "python",
   "nbconvert_exporter": "python",
   "pygments_lexer": "ipython3",
   "version": "3.8.16"
  },
  "orig_nbformat": 4
 },
 "nbformat": 4,
 "nbformat_minor": 2
}
