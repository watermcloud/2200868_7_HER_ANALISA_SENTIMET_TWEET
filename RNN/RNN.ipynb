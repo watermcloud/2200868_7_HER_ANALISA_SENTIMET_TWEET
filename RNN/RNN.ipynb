{
 "cells": [
  {
   "attachments": {},
   "cell_type": "markdown",
   "metadata": {},
   "source": [
    "# Recurent Neural Network (RNN)"
   ]
  },
  {
   "attachments": {},
   "cell_type": "markdown",
   "metadata": {},
   "source": [
    "RNNs are a type of neural network that can be used to model sequence data. RNNs, which are formed from feedforward networks, are similar to human brains in their behaviour. Simply said, recurrent neural networks can anticipate sequential data in a way that other algorithms can’t."
   ]
  },
  {
   "attachments": {},
   "cell_type": "markdown",
   "metadata": {},
   "source": [
    "![image](https://editor.analyticsvidhya.com/uploads/33870quora.png)"
   ]
  },
  {
   "attachments": {},
   "cell_type": "markdown",
   "metadata": {},
   "source": [
    "All of the inputs and outputs in standard neural networks are independent of one another, however in some circumstances, such as when predicting the next word of a phrase, the prior words are necessary, and so the previous words must be remembered. As a result, RNN was created, which used a Hidden Layer to overcome the problem. The most important component of RNN is the Hidden state, which remembers specific information about a sequence.\n",
    "\n",
    "RNNs have a Memory that stores all information about the calculations. It employs the same settings for each input since it produces the same outcome by performing the same task on all inputs or hidden layers."
   ]
  },
  {
   "attachments": {},
   "cell_type": "markdown",
   "metadata": {},
   "source": [
    "## Load Libraries and Dataset"
   ]
  },
  {
   "cell_type": "code",
   "execution_count": 1,
   "metadata": {},
   "outputs": [],
   "source": [
    "# Import required libraries\n",
    "\n",
    "import pandas as pd\n",
    "import numpy as np\n",
    "import seaborn as sns\n",
    "import matplotlib.pyplot as plt\n",
    "import sqlite3\n",
    "import pickle\n",
    "import re\n",
    "\n",
    "from collections import defaultdict\n",
    "from sklearn.model_selection import train_test_split, KFold\n",
    "from sklearn.metrics import classification_report, accuracy_score, confusion_matrix\n",
    "from tensorflow.keras.preprocessing.text import Tokenizer\n",
    "from tensorflow.keras.preprocessing.sequence import pad_sequences\n",
    "from tensorflow.keras.models import Sequential, load_model\n",
    "from tensorflow.keras.layers import Dense, Embedding, LSTM, SpatialDropout1D, SimpleRNN, Activation, Flatten\n",
    "from tensorflow.keras import optimizers, callbacks\n",
    "from tensorflow.keras import backend as K\n",
    "from tensorflow.keras.callbacks import EarlyStopping\n"
   ]
  },
  {
   "cell_type": "code",
   "execution_count": 2,
   "metadata": {},
   "outputs": [
    {
     "data": {
      "text/html": [
       "<div>\n",
       "<style scoped>\n",
       "    .dataframe tbody tr th:only-of-type {\n",
       "        vertical-align: middle;\n",
       "    }\n",
       "\n",
       "    .dataframe tbody tr th {\n",
       "        vertical-align: top;\n",
       "    }\n",
       "\n",
       "    .dataframe thead th {\n",
       "        text-align: right;\n",
       "    }\n",
       "</style>\n",
       "<table border=\"1\" class=\"dataframe\">\n",
       "  <thead>\n",
       "    <tr style=\"text-align: right;\">\n",
       "      <th></th>\n",
       "      <th>Tweet</th>\n",
       "      <th>Label</th>\n",
       "    </tr>\n",
       "  </thead>\n",
       "  <tbody>\n",
       "    <tr>\n",
       "      <th>0</th>\n",
       "      <td>warung ini dimiliki oleh pengusaha pabrik tahu...</td>\n",
       "      <td>positive</td>\n",
       "    </tr>\n",
       "    <tr>\n",
       "      <th>1</th>\n",
       "      <td>mohon ulama lurus dan k mmbri hujjah partai ap...</td>\n",
       "      <td>neutral</td>\n",
       "    </tr>\n",
       "    <tr>\n",
       "      <th>2</th>\n",
       "      <td>lokasi strategis di jalan sumatra bandung temp...</td>\n",
       "      <td>positive</td>\n",
       "    </tr>\n",
       "    <tr>\n",
       "      <th>3</th>\n",
       "      <td>betapa bahagia nya diri ini saat unboxing pake...</td>\n",
       "      <td>positive</td>\n",
       "    </tr>\n",
       "    <tr>\n",
       "      <th>4</th>\n",
       "      <td>aduh jadi mahasiswa jangan sombong dong kasih ...</td>\n",
       "      <td>negative</td>\n",
       "    </tr>\n",
       "    <tr>\n",
       "      <th>5</th>\n",
       "      <td>makanan beragam harga makanan di food stall ak...</td>\n",
       "      <td>positive</td>\n",
       "    </tr>\n",
       "    <tr>\n",
       "      <th>6</th>\n",
       "      <td>pakai kartu kredit baca tidak untung malah rug...</td>\n",
       "      <td>negative</td>\n",
       "    </tr>\n",
       "    <tr>\n",
       "      <th>7</th>\n",
       "      <td>tempat unik bagus buat foto makanan enak pegaw...</td>\n",
       "      <td>positive</td>\n",
       "    </tr>\n",
       "    <tr>\n",
       "      <th>8</th>\n",
       "      <td>saya bersama keluarga baru saja menikmati peng...</td>\n",
       "      <td>positive</td>\n",
       "    </tr>\n",
       "    <tr>\n",
       "      <th>9</th>\n",
       "      <td>bersyukur</td>\n",
       "      <td>positive</td>\n",
       "    </tr>\n",
       "  </tbody>\n",
       "</table>\n",
       "</div>"
      ],
      "text/plain": [
       "                                               Tweet     Label\n",
       "0  warung ini dimiliki oleh pengusaha pabrik tahu...  positive\n",
       "1  mohon ulama lurus dan k mmbri hujjah partai ap...   neutral\n",
       "2  lokasi strategis di jalan sumatra bandung temp...  positive\n",
       "3  betapa bahagia nya diri ini saat unboxing pake...  positive\n",
       "4  aduh jadi mahasiswa jangan sombong dong kasih ...  negative\n",
       "5  makanan beragam harga makanan di food stall ak...  positive\n",
       "6  pakai kartu kredit baca tidak untung malah rug...  negative\n",
       "7  tempat unik bagus buat foto makanan enak pegaw...  positive\n",
       "8  saya bersama keluarga baru saja menikmati peng...  positive\n",
       "9                                          bersyukur  positive"
      ]
     },
     "execution_count": 2,
     "metadata": {},
     "output_type": "execute_result"
    }
   ],
   "source": [
    "# Load dataset from database\n",
    "\n",
    "db = sqlite3.connect('C:/Users/HP/BInar/WAN PLATINUM/database.db', check_same_thread = False)\n",
    "q_data = 'SELECT * FROM data'\n",
    "data = pd.read_sql_query(q_data, db)\n",
    "data.head(10)"
   ]
  },
  {
   "cell_type": "code",
   "execution_count": 3,
   "metadata": {},
   "outputs": [
    {
     "data": {
      "text/plain": [
       "positive    6383\n",
       "negative    3412\n",
       "neutral     1138\n",
       "Name: Label, dtype: int64"
      ]
     },
     "execution_count": 3,
     "metadata": {},
     "output_type": "execute_result"
    }
   ],
   "source": [
    "# Data distribution check\n",
    "\n",
    "data['Label'].value_counts()"
   ]
  },
  {
   "attachments": {},
   "cell_type": "markdown",
   "metadata": {},
   "source": [
    "## Feature-Label Classification"
   ]
  },
  {
   "cell_type": "code",
   "execution_count": 4,
   "metadata": {},
   "outputs": [],
   "source": [
    "# Group data tweet\n",
    "\n",
    "positive_tweet = data.loc[data['Label']=='positive'].Tweet.tolist()\n",
    "negative_tweet = data.loc[data['Label']=='negative'].Tweet.tolist()\n",
    "neutral_tweet = data.loc[data['Label']=='neutral'].Tweet.tolist()\n",
    "\n",
    "# Group data label\n",
    "\n",
    "positive_label = data.loc[data['Label']=='positive'].Label.tolist()\n",
    "negative_label = data.loc[data['Label']=='negative'].Label.tolist()\n",
    "neutral_label = data.loc[data['Label']=='neutral'].Label.tolist()"
   ]
  },
  {
   "cell_type": "code",
   "execution_count": 5,
   "metadata": {},
   "outputs": [
    {
     "name": "stdout",
     "output_type": "stream",
     "text": [
      "Positive: 6383, Negative: 3412, Neutral: 1138\n",
      "Total data: 10933\n",
      "Total labels: 10933\n"
     ]
    }
   ],
   "source": [
    "# Final sentiment data check\n",
    "\n",
    "total_data = positive_tweet + negative_tweet + neutral_tweet\n",
    "labels = positive_label + neutral_label + negative_label\n",
    "\n",
    "print(\"Positive: %s, Negative: %s, Neutral: %s\" % (len(positive_tweet), len(negative_tweet), len(neutral_tweet)))\n",
    "print(\"Total data: %s\" % len(total_data))\n",
    "print(\"Total labels: %s\" % len(labels))"
   ]
  },
  {
   "attachments": {},
   "cell_type": "markdown",
   "metadata": {},
   "source": [
    "## Feature Extraction"
   ]
  },
  {
   "cell_type": "code",
   "execution_count": 6,
   "metadata": {},
   "outputs": [
    {
     "name": "stdout",
     "output_type": "stream",
     "text": [
      "tokenizer.pickle has been created!\n",
      "x_pad_sequences.pickle has been created!\n",
      "tokenizer.pickle has been created!\n"
     ]
    }
   ],
   "source": [
    "max_features = 10000\n",
    "tokenizer = Tokenizer(num_words=max_features, split=' ', lower=True)\n",
    "tokenizer.fit_on_texts(total_data)\n",
    "\n",
    "with open('tokenizer.pickle', 'wb') as handle:\n",
    "    pickle.dump(tokenizer, handle, protocol=pickle.HIGHEST_PROTOCOL)\n",
    "print(\"tokenizer.pickle has been created!\")\n",
    "\n",
    "X = tokenizer.texts_to_sequences(total_data)\n",
    "vocab_size = len(tokenizer.word_index)\n",
    "maxlen = max(len(x) for x in X)\n",
    "\n",
    "X = pad_sequences(X)\n",
    "\n",
    "with open('x_pad_sequences.pickle', 'wb') as handle:\n",
    "    pickle.dump(X, handle, protocol=pickle.HIGHEST_PROTOCOL)\n",
    "print(\"x_pad_sequences.pickle has been created!\")\n",
    "with open('tokenizer.pickle', 'wb') as handle:\n",
    "    pickle.dump(tokenizer, handle, protocol=pickle.HIGHEST_PROTOCOL)\n",
    "print(\"tokenizer.pickle has been created!\")\n"
   ]
  },
  {
   "cell_type": "code",
   "execution_count": 7,
   "metadata": {},
   "outputs": [
    {
     "name": "stdout",
     "output_type": "stream",
     "text": [
      "y_labels.pickle has created!\n"
     ]
    }
   ],
   "source": [
    "Y = pd.get_dummies(labels)\n",
    "Y = Y.values\n",
    "\n",
    "with open('y_labels.pickle', 'wb') as handle:\n",
    "    pickle.dump(Y, handle, protocol=pickle.HIGHEST_PROTOCOL)\n",
    "    print(\"y_labels.pickle has created!\")"
   ]
  },
  {
   "attachments": {},
   "cell_type": "markdown",
   "metadata": {},
   "source": [
    "## Train-Test Data Split"
   ]
  },
  {
   "cell_type": "code",
   "execution_count": 8,
   "metadata": {},
   "outputs": [],
   "source": [
    "with open(\"x_pad_sequences.pickle\", 'rb') as file:\n",
    "    X = pickle.load(file)\n",
    "\n",
    "with open(\"y_labels.pickle\", 'rb') as file:\n",
    "    Y = pickle.load(file)\n",
    "\n",
    "X_train, X_test, y_train, y_test = train_test_split(X, Y, test_size=0.2, random_state=42)\n"
   ]
  },
  {
   "attachments": {},
   "cell_type": "markdown",
   "metadata": {},
   "source": [
    "## Model Training"
   ]
  },
  {
   "attachments": {},
   "cell_type": "markdown",
   "metadata": {},
   "source": [
    "We will now train the RNN algorithm and perform 5-fold cross-validation to assess the stability of its performance."
   ]
  },
  {
   "cell_type": "code",
   "execution_count": 9,
   "metadata": {},
   "outputs": [
    {
     "name": "stdout",
     "output_type": "stream",
     "text": [
      "Epoch 1/50\n",
      "274/274 [==============================] - 10s 30ms/step - loss: 0.9773 - accuracy: 0.5185 - val_loss: 0.9116 - val_accuracy: 0.5812\n",
      "Epoch 2/50\n",
      "274/274 [==============================] - 7s 26ms/step - loss: 0.8451 - accuracy: 0.6370 - val_loss: 0.7505 - val_accuracy: 0.7371\n",
      "Epoch 3/50\n",
      "274/274 [==============================] - 8s 29ms/step - loss: 0.7353 - accuracy: 0.7225 - val_loss: 0.7007 - val_accuracy: 0.7554\n",
      "Epoch 4/50\n",
      "274/274 [==============================] - 9s 32ms/step - loss: 0.6827 - accuracy: 0.7437 - val_loss: 0.6576 - val_accuracy: 0.7590\n",
      "Epoch 5/50\n",
      "274/274 [==============================] - 8s 30ms/step - loss: 0.6397 - accuracy: 0.7624 - val_loss: 0.6205 - val_accuracy: 0.7705\n",
      "Epoch 6/50\n",
      "274/274 [==============================] - 8s 29ms/step - loss: 0.6045 - accuracy: 0.7751 - val_loss: 0.6013 - val_accuracy: 0.7727\n",
      "Epoch 7/50\n",
      "274/274 [==============================] - 8s 29ms/step - loss: 0.5771 - accuracy: 0.7833 - val_loss: 0.5841 - val_accuracy: 0.7709\n",
      "Epoch 8/50\n",
      "274/274 [==============================] - 8s 28ms/step - loss: 0.5586 - accuracy: 0.7863 - val_loss: 0.5729 - val_accuracy: 0.7759\n",
      "Epoch 9/50\n",
      "274/274 [==============================] - 8s 29ms/step - loss: 0.5450 - accuracy: 0.7908 - val_loss: 0.5635 - val_accuracy: 0.7759\n",
      "Epoch 10/50\n",
      "274/274 [==============================] - 8s 29ms/step - loss: 0.5293 - accuracy: 0.7976 - val_loss: 0.5568 - val_accuracy: 0.7810\n",
      "Epoch 11/50\n",
      "274/274 [==============================] - 8s 29ms/step - loss: 0.5205 - accuracy: 0.7943 - val_loss: 0.5527 - val_accuracy: 0.7810\n",
      "Epoch 12/50\n",
      "274/274 [==============================] - 8s 29ms/step - loss: 0.5022 - accuracy: 0.8045 - val_loss: 0.5458 - val_accuracy: 0.7842\n",
      "Epoch 13/50\n",
      "274/274 [==============================] - 8s 28ms/step - loss: 0.4948 - accuracy: 0.8077 - val_loss: 0.5383 - val_accuracy: 0.7883\n",
      "Epoch 14/50\n",
      "274/274 [==============================] - 8s 31ms/step - loss: 0.4856 - accuracy: 0.8071 - val_loss: 0.5408 - val_accuracy: 0.7810\n",
      "Epoch 15/50\n",
      "274/274 [==============================] - 8s 30ms/step - loss: 0.4769 - accuracy: 0.8118 - val_loss: 0.5286 - val_accuracy: 0.7892\n",
      "Epoch 16/50\n",
      "274/274 [==============================] - 8s 30ms/step - loss: 0.4646 - accuracy: 0.8182 - val_loss: 0.5335 - val_accuracy: 0.7965\n",
      "Epoch 17/50\n",
      "274/274 [==============================] - 8s 30ms/step - loss: 0.4590 - accuracy: 0.8165 - val_loss: 0.5204 - val_accuracy: 0.7906\n",
      "Epoch 18/50\n",
      "274/274 [==============================] - 9s 31ms/step - loss: 0.4477 - accuracy: 0.8232 - val_loss: 0.5238 - val_accuracy: 0.7970\n",
      "Epoch 19/50\n",
      "274/274 [==============================] - 8s 30ms/step - loss: 0.4433 - accuracy: 0.8233 - val_loss: 0.5142 - val_accuracy: 0.7988\n",
      "Epoch 20/50\n",
      "274/274 [==============================] - 8s 28ms/step - loss: 0.4345 - accuracy: 0.8269 - val_loss: 0.5198 - val_accuracy: 0.7952\n",
      "Epoch 21/50\n",
      "274/274 [==============================] - 8s 28ms/step - loss: 0.4297 - accuracy: 0.8280 - val_loss: 0.5138 - val_accuracy: 0.8011\n",
      "Epoch 22/50\n",
      "274/274 [==============================] - 8s 28ms/step - loss: 0.4245 - accuracy: 0.8254 - val_loss: 0.5117 - val_accuracy: 0.7993\n",
      "Epoch 23/50\n",
      "274/274 [==============================] - 7s 27ms/step - loss: 0.4140 - accuracy: 0.8306 - val_loss: 0.5103 - val_accuracy: 0.7979\n",
      "Epoch 24/50\n",
      "274/274 [==============================] - 8s 28ms/step - loss: 0.4069 - accuracy: 0.8325 - val_loss: 0.5091 - val_accuracy: 0.8034\n",
      "Epoch 25/50\n",
      "274/274 [==============================] - 8s 28ms/step - loss: 0.4012 - accuracy: 0.8362 - val_loss: 0.5040 - val_accuracy: 0.8011\n",
      "Epoch 26/50\n",
      "274/274 [==============================] - 8s 28ms/step - loss: 0.3918 - accuracy: 0.8418 - val_loss: 0.5079 - val_accuracy: 0.8029\n",
      "Epoch 27/50\n",
      "274/274 [==============================] - 8s 29ms/step - loss: 0.3889 - accuracy: 0.8416 - val_loss: 0.5085 - val_accuracy: 0.8020\n",
      "Epoch 27: early stopping\n",
      "69/69 [==============================] - 0s 5ms/step\n",
      "Training - 1\n",
      "              precision    recall  f1-score   support\n",
      "\n",
      "           0       0.65      0.89      0.75       681\n",
      "           1       0.00      0.00      0.00       235\n",
      "           2       0.91      0.91      0.91      1271\n",
      "\n",
      "    accuracy                           0.80      2187\n",
      "   macro avg       0.52      0.60      0.55      2187\n",
      "weighted avg       0.73      0.80      0.76      2187\n",
      "\n",
      "======================================================\n",
      "Epoch 1/50\n",
      "274/274 [==============================] - 9s 29ms/step - loss: 0.9365 - accuracy: 0.5599 - val_loss: 0.8271 - val_accuracy: 0.6173\n",
      "Epoch 2/50\n",
      "274/274 [==============================] - 8s 28ms/step - loss: 0.7537 - accuracy: 0.7048 - val_loss: 0.7102 - val_accuracy: 0.7439\n",
      "Epoch 3/50\n",
      "274/274 [==============================] - 8s 28ms/step - loss: 0.6970 - accuracy: 0.7415 - val_loss: 0.6595 - val_accuracy: 0.7604\n",
      "Epoch 4/50\n",
      "274/274 [==============================] - 8s 28ms/step - loss: 0.6388 - accuracy: 0.7595 - val_loss: 0.6274 - val_accuracy: 0.7718\n",
      "Epoch 5/50\n",
      "274/274 [==============================] - 8s 28ms/step - loss: 0.6048 - accuracy: 0.7709 - val_loss: 0.6023 - val_accuracy: 0.7686\n",
      "Epoch 6/50\n",
      "274/274 [==============================] - 7s 27ms/step - loss: 0.5847 - accuracy: 0.7753 - val_loss: 0.5886 - val_accuracy: 0.7750\n",
      "Epoch 7/50\n",
      "274/274 [==============================] - 7s 27ms/step - loss: 0.5694 - accuracy: 0.7797 - val_loss: 0.5750 - val_accuracy: 0.7791\n",
      "Epoch 8/50\n",
      "274/274 [==============================] - 7s 27ms/step - loss: 0.5538 - accuracy: 0.7854 - val_loss: 0.5652 - val_accuracy: 0.7787\n",
      "Epoch 9/50\n",
      "274/274 [==============================] - 8s 29ms/step - loss: 0.5337 - accuracy: 0.7937 - val_loss: 0.5605 - val_accuracy: 0.7787\n",
      "Epoch 10/50\n",
      "274/274 [==============================] - 8s 28ms/step - loss: 0.5235 - accuracy: 0.7941 - val_loss: 0.5544 - val_accuracy: 0.7801\n",
      "Epoch 11/50\n",
      "274/274 [==============================] - 7s 27ms/step - loss: 0.5165 - accuracy: 0.7961 - val_loss: 0.5505 - val_accuracy: 0.7819\n",
      "Epoch 12/50\n",
      "274/274 [==============================] - 7s 27ms/step - loss: 0.5028 - accuracy: 0.8035 - val_loss: 0.5434 - val_accuracy: 0.7824\n",
      "Epoch 13/50\n",
      "274/274 [==============================] - 7s 27ms/step - loss: 0.4909 - accuracy: 0.8056 - val_loss: 0.5385 - val_accuracy: 0.7856\n",
      "Epoch 14/50\n",
      "274/274 [==============================] - 7s 27ms/step - loss: 0.4832 - accuracy: 0.8115 - val_loss: 0.5424 - val_accuracy: 0.7828\n",
      "Epoch 15/50\n",
      "274/274 [==============================] - 7s 27ms/step - loss: 0.4761 - accuracy: 0.8117 - val_loss: 0.5433 - val_accuracy: 0.7828\n",
      "Epoch 15: early stopping\n",
      "69/69 [==============================] - 0s 5ms/step\n",
      "Training - 2\n",
      "              precision    recall  f1-score   support\n",
      "\n",
      "           0       0.61      0.91      0.74       681\n",
      "           1       0.50      0.00      0.01       235\n",
      "           2       0.93      0.86      0.89      1271\n",
      "\n",
      "    accuracy                           0.78      2187\n",
      "   macro avg       0.68      0.59      0.54      2187\n",
      "weighted avg       0.79      0.78      0.75      2187\n",
      "\n",
      "======================================================\n",
      "Epoch 1/50\n",
      "274/274 [==============================] - 9s 28ms/step - loss: 0.9636 - accuracy: 0.5611 - val_loss: 0.7941 - val_accuracy: 0.7229\n",
      "Epoch 2/50\n",
      "274/274 [==============================] - 7s 27ms/step - loss: 0.7802 - accuracy: 0.7103 - val_loss: 0.7538 - val_accuracy: 0.7165\n",
      "Epoch 3/50\n",
      "274/274 [==============================] - 7s 27ms/step - loss: 0.7269 - accuracy: 0.7323 - val_loss: 0.7016 - val_accuracy: 0.7417\n",
      "Epoch 4/50\n",
      "274/274 [==============================] - 7s 27ms/step - loss: 0.6851 - accuracy: 0.7472 - val_loss: 0.6626 - val_accuracy: 0.7627\n",
      "Epoch 5/50\n",
      "274/274 [==============================] - 8s 28ms/step - loss: 0.6337 - accuracy: 0.7619 - val_loss: 0.6389 - val_accuracy: 0.7631\n",
      "Epoch 6/50\n",
      "274/274 [==============================] - 10s 36ms/step - loss: 0.6010 - accuracy: 0.7748 - val_loss: 0.6070 - val_accuracy: 0.7705\n",
      "Epoch 7/50\n",
      "274/274 [==============================] - 10s 37ms/step - loss: 0.5800 - accuracy: 0.7782 - val_loss: 0.5850 - val_accuracy: 0.7741\n",
      "Epoch 8/50\n",
      "274/274 [==============================] - 10s 35ms/step - loss: 0.5562 - accuracy: 0.7871 - val_loss: 0.5952 - val_accuracy: 0.7686\n",
      "Epoch 9/50\n",
      "274/274 [==============================] - 9s 35ms/step - loss: 0.5409 - accuracy: 0.7911 - val_loss: 0.5649 - val_accuracy: 0.7727\n",
      "Epoch 10/50\n",
      "274/274 [==============================] - 9s 33ms/step - loss: 0.5313 - accuracy: 0.7948 - val_loss: 0.5594 - val_accuracy: 0.7773\n",
      "Epoch 11/50\n",
      "274/274 [==============================] - 9s 32ms/step - loss: 0.5156 - accuracy: 0.8000 - val_loss: 0.5567 - val_accuracy: 0.7778\n",
      "Epoch 12/50\n",
      "274/274 [==============================] - 9s 33ms/step - loss: 0.5039 - accuracy: 0.8037 - val_loss: 0.5466 - val_accuracy: 0.7791\n",
      "Epoch 13/50\n",
      "274/274 [==============================] - 9s 33ms/step - loss: 0.4926 - accuracy: 0.8062 - val_loss: 0.5407 - val_accuracy: 0.7782\n",
      "Epoch 14/50\n",
      "274/274 [==============================] - 9s 33ms/step - loss: 0.4826 - accuracy: 0.8109 - val_loss: 0.5335 - val_accuracy: 0.7828\n",
      "Epoch 15/50\n",
      "274/274 [==============================] - 9s 34ms/step - loss: 0.4722 - accuracy: 0.8067 - val_loss: 0.5354 - val_accuracy: 0.7837\n",
      "Epoch 16/50\n",
      "274/274 [==============================] - 8s 31ms/step - loss: 0.4641 - accuracy: 0.8144 - val_loss: 0.5280 - val_accuracy: 0.7824\n",
      "Epoch 17/50\n",
      "274/274 [==============================] - 8s 30ms/step - loss: 0.4563 - accuracy: 0.8167 - val_loss: 0.5368 - val_accuracy: 0.7828\n",
      "Epoch 18/50\n",
      "274/274 [==============================] - 8s 30ms/step - loss: 0.4460 - accuracy: 0.8229 - val_loss: 0.5202 - val_accuracy: 0.7874\n",
      "Epoch 19/50\n",
      "274/274 [==============================] - 8s 30ms/step - loss: 0.4362 - accuracy: 0.8225 - val_loss: 0.5231 - val_accuracy: 0.7874\n",
      "Epoch 20/50\n",
      "274/274 [==============================] - 8s 30ms/step - loss: 0.4314 - accuracy: 0.8287 - val_loss: 0.5114 - val_accuracy: 0.7938\n",
      "Epoch 21/50\n",
      "274/274 [==============================] - 8s 31ms/step - loss: 0.4249 - accuracy: 0.8273 - val_loss: 0.5234 - val_accuracy: 0.7947\n",
      "Epoch 22/50\n",
      "274/274 [==============================] - 9s 31ms/step - loss: 0.4135 - accuracy: 0.8351 - val_loss: 0.5116 - val_accuracy: 0.7942\n",
      "Epoch 22: early stopping\n",
      "69/69 [==============================] - 1s 5ms/step\n",
      "Training - 3\n",
      "              precision    recall  f1-score   support\n",
      "\n",
      "           0       0.64      0.89      0.74       681\n",
      "           1       0.00      0.00      0.00       235\n",
      "           2       0.91      0.89      0.90      1271\n",
      "\n",
      "    accuracy                           0.79      2187\n",
      "   macro avg       0.52      0.59      0.55      2187\n",
      "weighted avg       0.73      0.79      0.76      2187\n",
      "\n",
      "======================================================\n",
      "Epoch 1/50\n"
     ]
    },
    {
     "name": "stderr",
     "output_type": "stream",
     "text": [
      "c:\\Users\\HP\\anaconda3\\envs\\envawan-8\\lib\\site-packages\\sklearn\\metrics\\_classification.py:1344: UndefinedMetricWarning: Precision and F-score are ill-defined and being set to 0.0 in labels with no predicted samples. Use `zero_division` parameter to control this behavior.\n",
      "  _warn_prf(average, modifier, msg_start, len(result))\n",
      "c:\\Users\\HP\\anaconda3\\envs\\envawan-8\\lib\\site-packages\\sklearn\\metrics\\_classification.py:1344: UndefinedMetricWarning: Precision and F-score are ill-defined and being set to 0.0 in labels with no predicted samples. Use `zero_division` parameter to control this behavior.\n",
      "  _warn_prf(average, modifier, msg_start, len(result))\n",
      "c:\\Users\\HP\\anaconda3\\envs\\envawan-8\\lib\\site-packages\\sklearn\\metrics\\_classification.py:1344: UndefinedMetricWarning: Precision and F-score are ill-defined and being set to 0.0 in labels with no predicted samples. Use `zero_division` parameter to control this behavior.\n",
      "  _warn_prf(average, modifier, msg_start, len(result))\n"
     ]
    },
    {
     "name": "stdout",
     "output_type": "stream",
     "text": [
      "274/274 [==============================] - 11s 34ms/step - loss: 0.8944 - accuracy: 0.5846 - val_loss: 0.7621 - val_accuracy: 0.6900\n",
      "Epoch 2/50\n",
      "274/274 [==============================] - 9s 33ms/step - loss: 0.7441 - accuracy: 0.7147 - val_loss: 0.7106 - val_accuracy: 0.7334\n",
      "Epoch 3/50\n",
      "274/274 [==============================] - 9s 34ms/step - loss: 0.6865 - accuracy: 0.7429 - val_loss: 0.6450 - val_accuracy: 0.7590\n",
      "Epoch 4/50\n",
      "274/274 [==============================] - 11s 42ms/step - loss: 0.6347 - accuracy: 0.7584 - val_loss: 0.6099 - val_accuracy: 0.7746\n",
      "Epoch 5/50\n",
      "274/274 [==============================] - 15s 53ms/step - loss: 0.5976 - accuracy: 0.7704 - val_loss: 0.6304 - val_accuracy: 0.7545\n",
      "Epoch 6/50\n",
      "274/274 [==============================] - 11s 40ms/step - loss: 0.5826 - accuracy: 0.7773 - val_loss: 0.5940 - val_accuracy: 0.7631\n",
      "Epoch 7/50\n",
      "274/274 [==============================] - 9s 34ms/step - loss: 0.5648 - accuracy: 0.7808 - val_loss: 0.5727 - val_accuracy: 0.7837\n",
      "Epoch 8/50\n",
      "274/274 [==============================] - 9s 33ms/step - loss: 0.5474 - accuracy: 0.7888 - val_loss: 0.5655 - val_accuracy: 0.7718\n",
      "Epoch 9/50\n",
      "274/274 [==============================] - 8s 31ms/step - loss: 0.5299 - accuracy: 0.7910 - val_loss: 0.5512 - val_accuracy: 0.7846\n",
      "Epoch 10/50\n",
      "274/274 [==============================] - 9s 33ms/step - loss: 0.5249 - accuracy: 0.7967 - val_loss: 0.5498 - val_accuracy: 0.7842\n",
      "Epoch 11/50\n",
      "274/274 [==============================] - 8s 30ms/step - loss: 0.5076 - accuracy: 0.7991 - val_loss: 0.5394 - val_accuracy: 0.7874\n",
      "Epoch 12/50\n",
      "274/274 [==============================] - 8s 30ms/step - loss: 0.4955 - accuracy: 0.8056 - val_loss: 0.5304 - val_accuracy: 0.7897\n",
      "Epoch 13/50\n",
      "274/274 [==============================] - 8s 30ms/step - loss: 0.4869 - accuracy: 0.8093 - val_loss: 0.5344 - val_accuracy: 0.7869\n",
      "Epoch 14/50\n",
      "274/274 [==============================] - 8s 30ms/step - loss: 0.4766 - accuracy: 0.8116 - val_loss: 0.5322 - val_accuracy: 0.7869\n",
      "Epoch 14: early stopping\n",
      "69/69 [==============================] - 1s 6ms/step\n",
      "Training - 4\n",
      "              precision    recall  f1-score   support\n",
      "\n",
      "           0       0.63      0.91      0.74       681\n",
      "           1       0.00      0.00      0.00       235\n",
      "           2       0.92      0.87      0.89      1271\n",
      "\n",
      "    accuracy                           0.79      2187\n",
      "   macro avg       0.51      0.59      0.54      2187\n",
      "weighted avg       0.73      0.79      0.75      2187\n",
      "\n",
      "======================================================\n",
      "Epoch 1/50\n"
     ]
    },
    {
     "name": "stderr",
     "output_type": "stream",
     "text": [
      "c:\\Users\\HP\\anaconda3\\envs\\envawan-8\\lib\\site-packages\\sklearn\\metrics\\_classification.py:1344: UndefinedMetricWarning: Precision and F-score are ill-defined and being set to 0.0 in labels with no predicted samples. Use `zero_division` parameter to control this behavior.\n",
      "  _warn_prf(average, modifier, msg_start, len(result))\n",
      "c:\\Users\\HP\\anaconda3\\envs\\envawan-8\\lib\\site-packages\\sklearn\\metrics\\_classification.py:1344: UndefinedMetricWarning: Precision and F-score are ill-defined and being set to 0.0 in labels with no predicted samples. Use `zero_division` parameter to control this behavior.\n",
      "  _warn_prf(average, modifier, msg_start, len(result))\n",
      "c:\\Users\\HP\\anaconda3\\envs\\envawan-8\\lib\\site-packages\\sklearn\\metrics\\_classification.py:1344: UndefinedMetricWarning: Precision and F-score are ill-defined and being set to 0.0 in labels with no predicted samples. Use `zero_division` parameter to control this behavior.\n",
      "  _warn_prf(average, modifier, msg_start, len(result))\n"
     ]
    },
    {
     "name": "stdout",
     "output_type": "stream",
     "text": [
      "274/274 [==============================] - 10s 30ms/step - loss: 0.9244 - accuracy: 0.5719 - val_loss: 0.7694 - val_accuracy: 0.7188\n",
      "Epoch 2/50\n",
      "274/274 [==============================] - 8s 30ms/step - loss: 0.7639 - accuracy: 0.7062 - val_loss: 0.7453 - val_accuracy: 0.7174\n",
      "Epoch 3/50\n",
      "274/274 [==============================] - 8s 31ms/step - loss: 0.7321 - accuracy: 0.7265 - val_loss: 0.7113 - val_accuracy: 0.7453\n",
      "Epoch 4/50\n",
      "274/274 [==============================] - 9s 32ms/step - loss: 0.6922 - accuracy: 0.7439 - val_loss: 0.6643 - val_accuracy: 0.7627\n",
      "Epoch 5/50\n",
      "274/274 [==============================] - 8s 31ms/step - loss: 0.6444 - accuracy: 0.7627 - val_loss: 0.6313 - val_accuracy: 0.7741\n",
      "Epoch 6/50\n",
      "274/274 [==============================] - 8s 30ms/step - loss: 0.6125 - accuracy: 0.7727 - val_loss: 0.6117 - val_accuracy: 0.7746\n",
      "Epoch 7/50\n",
      "274/274 [==============================] - 8s 30ms/step - loss: 0.5857 - accuracy: 0.7793 - val_loss: 0.6023 - val_accuracy: 0.7714\n",
      "Epoch 8/50\n",
      "274/274 [==============================] - 8s 30ms/step - loss: 0.5730 - accuracy: 0.7808 - val_loss: 0.6026 - val_accuracy: 0.7641\n",
      "Epoch 9/50\n",
      "274/274 [==============================] - 8s 30ms/step - loss: 0.5574 - accuracy: 0.7845 - val_loss: 0.5835 - val_accuracy: 0.7801\n",
      "Epoch 10/50\n",
      "274/274 [==============================] - 8s 30ms/step - loss: 0.5396 - accuracy: 0.7922 - val_loss: 0.5683 - val_accuracy: 0.7810\n",
      "Epoch 11/50\n",
      "274/274 [==============================] - 8s 29ms/step - loss: 0.5268 - accuracy: 0.7951 - val_loss: 0.5637 - val_accuracy: 0.7773\n",
      "Epoch 12/50\n",
      "274/274 [==============================] - 8s 30ms/step - loss: 0.5167 - accuracy: 0.7962 - val_loss: 0.5530 - val_accuracy: 0.7801\n",
      "Epoch 13/50\n",
      "274/274 [==============================] - 7s 27ms/step - loss: 0.5010 - accuracy: 0.8053 - val_loss: 0.5511 - val_accuracy: 0.7837\n",
      "Epoch 14/50\n",
      "274/274 [==============================] - 8s 30ms/step - loss: 0.4907 - accuracy: 0.8063 - val_loss: 0.5549 - val_accuracy: 0.7805\n",
      "Epoch 15/50\n",
      "274/274 [==============================] - 8s 29ms/step - loss: 0.4814 - accuracy: 0.8083 - val_loss: 0.5376 - val_accuracy: 0.7874\n",
      "Epoch 16/50\n",
      "274/274 [==============================] - 8s 28ms/step - loss: 0.4731 - accuracy: 0.8110 - val_loss: 0.5333 - val_accuracy: 0.7869\n",
      "Epoch 17/50\n",
      "274/274 [==============================] - 8s 29ms/step - loss: 0.4608 - accuracy: 0.8153 - val_loss: 0.5333 - val_accuracy: 0.7869\n",
      "Epoch 18/50\n",
      "274/274 [==============================] - 8s 28ms/step - loss: 0.4529 - accuracy: 0.8183 - val_loss: 0.5281 - val_accuracy: 0.7860\n",
      "Epoch 19/50\n",
      "274/274 [==============================] - 8s 28ms/step - loss: 0.4480 - accuracy: 0.8200 - val_loss: 0.5248 - val_accuracy: 0.7897\n",
      "Epoch 20/50\n",
      "274/274 [==============================] - 8s 30ms/step - loss: 0.4392 - accuracy: 0.8207 - val_loss: 0.5264 - val_accuracy: 0.7910\n",
      "Epoch 21/50\n",
      "274/274 [==============================] - 9s 32ms/step - loss: 0.4288 - accuracy: 0.8278 - val_loss: 0.5239 - val_accuracy: 0.7883\n",
      "Epoch 22/50\n",
      "274/274 [==============================] - 8s 30ms/step - loss: 0.4260 - accuracy: 0.8273 - val_loss: 0.5379 - val_accuracy: 0.7869\n",
      "Epoch 23/50\n",
      "274/274 [==============================] - 8s 31ms/step - loss: 0.4161 - accuracy: 0.8301 - val_loss: 0.5220 - val_accuracy: 0.7961\n",
      "Epoch 24/50\n",
      "274/274 [==============================] - 8s 30ms/step - loss: 0.4079 - accuracy: 0.8295 - val_loss: 0.5243 - val_accuracy: 0.7965\n",
      "Epoch 25/50\n",
      "274/274 [==============================] - 8s 29ms/step - loss: 0.4047 - accuracy: 0.8357 - val_loss: 0.5143 - val_accuracy: 0.7974\n",
      "Epoch 26/50\n",
      "274/274 [==============================] - 7s 27ms/step - loss: 0.3959 - accuracy: 0.8335 - val_loss: 0.5146 - val_accuracy: 0.7974\n",
      "Epoch 27/50\n",
      "274/274 [==============================] - 9s 32ms/step - loss: 0.3976 - accuracy: 0.8367 - val_loss: 0.5146 - val_accuracy: 0.7970\n",
      "Epoch 27: early stopping\n",
      "69/69 [==============================] - 1s 5ms/step\n",
      "Training - 5\n",
      "              precision    recall  f1-score   support\n",
      "\n",
      "           0       0.65      0.86      0.74       681\n",
      "           1       0.00      0.00      0.00       235\n",
      "           2       0.90      0.91      0.90      1271\n",
      "\n",
      "    accuracy                           0.80      2187\n",
      "   macro avg       0.52      0.59      0.55      2187\n",
      "weighted avg       0.73      0.80      0.76      2187\n",
      "\n",
      "======================================================\n",
      "\n",
      "\n",
      "\n",
      "Rata-rata Accuracy:  0.7926\n"
     ]
    },
    {
     "name": "stderr",
     "output_type": "stream",
     "text": [
      "c:\\Users\\HP\\anaconda3\\envs\\envawan-8\\lib\\site-packages\\sklearn\\metrics\\_classification.py:1344: UndefinedMetricWarning: Precision and F-score are ill-defined and being set to 0.0 in labels with no predicted samples. Use `zero_division` parameter to control this behavior.\n",
      "  _warn_prf(average, modifier, msg_start, len(result))\n",
      "c:\\Users\\HP\\anaconda3\\envs\\envawan-8\\lib\\site-packages\\sklearn\\metrics\\_classification.py:1344: UndefinedMetricWarning: Precision and F-score are ill-defined and being set to 0.0 in labels with no predicted samples. Use `zero_division` parameter to control this behavior.\n",
      "  _warn_prf(average, modifier, msg_start, len(result))\n",
      "c:\\Users\\HP\\anaconda3\\envs\\envawan-8\\lib\\site-packages\\sklearn\\metrics\\_classification.py:1344: UndefinedMetricWarning: Precision and F-score are ill-defined and being set to 0.0 in labels with no predicted samples. Use `zero_division` parameter to control this behavior.\n",
      "  _warn_prf(average, modifier, msg_start, len(result))\n"
     ]
    }
   ],
   "source": [
    "# Model Training Cross Validation\n",
    "\n",
    "kf = KFold(n_splits=5,random_state=42,shuffle=True)\n",
    "\n",
    "accuracies = []\n",
    "\n",
    "y = Y\n",
    "\n",
    "embed_dim = 100 \n",
    "\n",
    "units = 64\n",
    "\n",
    "for iteration, data in enumerate(kf.split(X), start=1):\n",
    "\n",
    "    data_train   = X[data[0]]\n",
    "    target_train = y[data[0]]\n",
    "\n",
    "    data_test    = X[data[1]]\n",
    "    target_test  = y[data[1]]\n",
    "    \n",
    "    # Create model architecture\n",
    "\n",
    "    model = Sequential()\n",
    "    model.add(Embedding(max_features, embed_dim, input_length=X.shape[1]))\n",
    "    model.add(SimpleRNN(units, dropout=0.8 ))\n",
    "    model.add(Dense(3,activation='softmax'))\n",
    "\n",
    "    # model.compile(loss = 'categorical_crossentropy', optimizer='adam', metrics = ['accuracy'])\n",
    "\n",
    "    adam = optimizers.Adam(learning_rate = 0.00005 )\n",
    "    model.compile(loss = 'categorical_crossentropy', optimizer = adam, metrics = ['accuracy'])\n",
    "\n",
    "    es = EarlyStopping(monitor='val_loss', mode='min', verbose=1, patience=2)\n",
    "    history = model.fit(X_train, y_train, epochs=50, batch_size=32, \n",
    "                        validation_data=(X_test, y_test), verbose=1, callbacks=[es])\n",
    "\n",
    "    predictions = model.predict(X_test)\n",
    "    y_pred = predictions\n",
    "\n",
    "    # for the current fold only\n",
    "    \n",
    "    accuracy = accuracy_score(y_test.argmax(axis=1), y_pred.argmax(axis=1))\n",
    "\n",
    "    print(\"Training -\", iteration)\n",
    "    print(classification_report(y_test.argmax(axis=1), y_pred.argmax(axis=1)))\n",
    "    print(\"======================================================\")\n",
    "\n",
    "    accuracies.append(accuracy)\n",
    "\n",
    "# this is the average accuracy over all folds\n",
    "\n",
    "average_accuracy = np.mean(accuracies)\n",
    "\n",
    "print()\n",
    "print()\n",
    "print()\n",
    "print(\"Rata-rata Accuracy: \", round(average_accuracy,4))\n"
   ]
  },
  {
   "attachments": {},
   "cell_type": "markdown",
   "metadata": {},
   "source": [
    "## Evaluation"
   ]
  },
  {
   "cell_type": "code",
   "execution_count": 10,
   "metadata": {},
   "outputs": [
    {
     "data": {
      "image/png": "[encoded data removed]",
      "text/plain": [
       "<Figure size 1200x500 with 2 Axes>"
      ]
     },
     "metadata": {},
     "output_type": "display_data"
    }
   ],
   "source": [
    "plt.style.use('ggplot')\n",
    "\n",
    "def plot_history(history):\n",
    "    acc = history.history['accuracy']\n",
    "    val_acc = history.history['val_accuracy']\n",
    "    loss = history.history['loss']\n",
    "    val_loss = history.history['val_loss']\n",
    "    epochs = range(1, len(acc) + 1)\n",
    "\n",
    "    plt.figure(figsize=(12, 5))\n",
    "\n",
    "    plt.subplot(1, 2, 1)\n",
    "    plt.plot(epochs, acc, 'b', label='Training Accuracy')\n",
    "    plt.plot(epochs, val_acc, 'r', label='Validation Accuracy')\n",
    "    plt.title('Training and Validation Accuracy')\n",
    "    plt.xlabel('Epochs')\n",
    "    plt.ylabel('Accuracy')\n",
    "    plt.legend()\n",
    "\n",
    "    plt.subplot(1, 2, 2)\n",
    "    plt.plot(epochs, loss, 'b', label='Training Loss')\n",
    "    plt.plot(epochs, val_loss, 'r', label='Validation Loss')\n",
    "    plt.title('Training and Validation Loss')\n",
    "    plt.xlabel('Epochs')\n",
    "    plt.ylabel('Loss')\n",
    "    plt.legend()\n",
    "\n",
    "    plt.tight_layout()\n",
    "    plt.show()\n",
    "\n",
    "%matplotlib inline\n",
    "plot_history(history)\n"
   ]
  },
  {
   "cell_type": "code",
   "execution_count": 11,
   "metadata": {},
   "outputs": [
    {
     "name": "stdout",
     "output_type": "stream",
     "text": [
      "Model has created!\n"
     ]
    }
   ],
   "source": [
    "# Save the model\n",
    "\n",
    "model.save('model.h5')\n",
    "print(\"Model has created!\")"
   ]
  },
  {
   "cell_type": "code",
   "execution_count": 12,
   "metadata": {},
   "outputs": [
    {
     "name": "stdout",
     "output_type": "stream",
     "text": [
      "1/1 [==============================] - 0s 161ms/step\n",
      "Text:  makanannya enak  \n",
      "Sentiment: positive\n"
     ]
    }
   ],
   "source": [
    "input_text = \"\"\"\n",
    "Makanannya enak  \"\"\"\n",
    "\n",
    "def cleansing(sent):\n",
    "    string = sent.lower()\n",
    "    string = re.sub(r'[^a-zA-Z0-9]', ' ', string)\n",
    "    return string\n",
    "\n",
    "sentiment = ['negative', 'neutral', 'positive']\n",
    "\n",
    "text = [cleansing(input_text)]\n",
    "predicted = tokenizer.texts_to_sequences(text)\n",
    "guess = pad_sequences(predicted, maxlen=X.shape[1])\n",
    "\n",
    "model = load_model('model.h5')\n",
    "prediction = model.predict(guess)\n",
    "polarity = np.argmax(prediction[0])\n",
    "hasil = sentiment[polarity]\n",
    "\n",
    "print(\"Text: %s\" % text[0])\n",
    "print(\"Sentiment: %s\" % sentiment[polarity])"
   ]
  },
  {
   "cell_type": "code",
   "execution_count": 13,
   "metadata": {},
   "outputs": [
    {
     "name": "stdout",
     "output_type": "stream",
     "text": [
      "1/1 [==============================] - 0s 134ms/step\n",
      "Text:  payah kamu  \n",
      "Sentiment: negative\n"
     ]
    }
   ],
   "source": [
    "input_text = \"\"\"\n",
    "Payah kamu  \"\"\"\n",
    "\n",
    "def cleansing(sent):\n",
    "    string = sent.lower()\n",
    "    string = re.sub(r'[^a-zA-Z0-9]', ' ', string)\n",
    "    return string\n",
    "\n",
    "sentiment = ['negative', 'neutral', 'positive']\n",
    "\n",
    "text = [cleansing(input_text)]\n",
    "predicted = tokenizer.texts_to_sequences(text)\n",
    "guess = pad_sequences(predicted, maxlen=X.shape[1])\n",
    "\n",
    "model = load_model('model.h5')\n",
    "prediction = model.predict(guess)\n",
    "polarity = np.argmax(prediction[0])\n",
    "hasil = sentiment[polarity]\n",
    "\n",
    "print(\"Text: %s\" % text[0])\n",
    "print(\"Sentiment: %s\" % sentiment[polarity])"
   ]
  }
 ],
 "metadata": {
  "kernelspec": {
   "display_name": "envawan-8",
   "language": "python",
   "name": "python3"
  },
  "language_info": {
   "codemirror_mode": {
    "name": "ipython",
    "version": 3
   },
   "file_extension": ".py",
   "mimetype": "text/x-python",
   "name": "python",
   "nbconvert_exporter": "python",
   "pygments_lexer": "ipython3",
   "version": "3.8.16"
  },
  "orig_nbformat": 4
 },
 "nbformat": 4,
 "nbformat_minor": 2
}
