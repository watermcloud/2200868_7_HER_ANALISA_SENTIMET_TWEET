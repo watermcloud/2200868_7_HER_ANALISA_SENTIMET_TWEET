{
 "cells": [
  {
   "attachments": {},
   "cell_type": "markdown",
   "metadata": {},
   "source": [
    "# Artificial Neural Network (ANN)"
   ]
  },
  {
   "attachments": {},
   "cell_type": "markdown",
   "metadata": {},
   "source": [
    "An artificial neural network (ANN) is a computational model inspired by the structure and functioning of the biological brain. It is a mathematical model composed of interconnected artificial neurons, also known as nodes or units. ANN is a fundamental concept in the field of machine learning and is used for various tasks such as pattern recognition, classification, regression, and optimization."
   ]
  },
  {
   "attachments": {},
   "cell_type": "markdown",
   "metadata": {},
   "source": [
    "![image](https://assets-global.website-files.com/5fb24a974499e90dae242d98/620a60b07d89271b879c9e95_Illustrations%20for%20Blog%20Posts.png)"
   ]
  },
  {
   "attachments": {},
   "cell_type": "markdown",
   "metadata": {},
   "source": [
    "ANN is essentially a feed-forward network because of the way information travels through it — from one layer to another without touching a node twice. All layers are responsible for inputting, processing, and outputting data to the deeper layers. Such an interlayered system is what helps this Neural Network understand and learn complex things.\n"
   ]
  },
  {
   "attachments": {},
   "cell_type": "markdown",
   "metadata": {},
   "source": [
    "## Load Libraries and Dataset"
   ]
  },
  {
   "cell_type": "code",
   "execution_count": 1,
   "metadata": {},
   "outputs": [],
   "source": [
    "# Import required libraries\n",
    "\n",
    "import pandas as pd\n",
    "import numpy as np\n",
    "import seaborn as sns\n",
    "import matplotlib.pyplot as plt\n",
    "import sqlite3\n",
    "import pickle\n",
    "import re\n",
    "\n",
    "from collections import defaultdict\n",
    "from sklearn.model_selection import train_test_split, KFold\n",
    "from sklearn.metrics import classification_report, accuracy_score, confusion_matrix\n",
    "from tensorflow.keras.preprocessing.text import Tokenizer\n",
    "from tensorflow.keras.preprocessing.sequence import pad_sequences\n",
    "from tensorflow.keras.models import Sequential, load_model\n",
    "from tensorflow.keras.layers import Dense, Embedding, LSTM, SpatialDropout1D, SimpleRNN, Activation, Flatten\n",
    "from tensorflow.keras import optimizers, callbacks\n",
    "from tensorflow.keras import backend as K\n",
    "from tensorflow.keras.callbacks import EarlyStopping\n"
   ]
  },
  {
   "cell_type": "code",
   "execution_count": 2,
   "metadata": {},
   "outputs": [
    {
     "data": {
      "text/html": [
       "<div>\n",
       "<style scoped>\n",
       "    .dataframe tbody tr th:only-of-type {\n",
       "        vertical-align: middle;\n",
       "    }\n",
       "\n",
       "    .dataframe tbody tr th {\n",
       "        vertical-align: top;\n",
       "    }\n",
       "\n",
       "    .dataframe thead th {\n",
       "        text-align: right;\n",
       "    }\n",
       "</style>\n",
       "<table border=\"1\" class=\"dataframe\">\n",
       "  <thead>\n",
       "    <tr style=\"text-align: right;\">\n",
       "      <th></th>\n",
       "      <th>Tweet</th>\n",
       "      <th>Label</th>\n",
       "    </tr>\n",
       "  </thead>\n",
       "  <tbody>\n",
       "    <tr>\n",
       "      <th>0</th>\n",
       "      <td>warung ini dimiliki oleh pengusaha pabrik tahu...</td>\n",
       "      <td>positive</td>\n",
       "    </tr>\n",
       "    <tr>\n",
       "      <th>1</th>\n",
       "      <td>mohon ulama lurus dan k mmbri hujjah partai ap...</td>\n",
       "      <td>neutral</td>\n",
       "    </tr>\n",
       "    <tr>\n",
       "      <th>2</th>\n",
       "      <td>lokasi strategis di jalan sumatra bandung temp...</td>\n",
       "      <td>positive</td>\n",
       "    </tr>\n",
       "    <tr>\n",
       "      <th>3</th>\n",
       "      <td>betapa bahagia nya diri ini saat unboxing pake...</td>\n",
       "      <td>positive</td>\n",
       "    </tr>\n",
       "    <tr>\n",
       "      <th>4</th>\n",
       "      <td>aduh jadi mahasiswa jangan sombong dong kasih ...</td>\n",
       "      <td>negative</td>\n",
       "    </tr>\n",
       "    <tr>\n",
       "      <th>5</th>\n",
       "      <td>makanan beragam harga makanan di food stall ak...</td>\n",
       "      <td>positive</td>\n",
       "    </tr>\n",
       "    <tr>\n",
       "      <th>6</th>\n",
       "      <td>pakai kartu kredit baca tidak untung malah rug...</td>\n",
       "      <td>negative</td>\n",
       "    </tr>\n",
       "    <tr>\n",
       "      <th>7</th>\n",
       "      <td>tempat unik bagus buat foto makanan enak pegaw...</td>\n",
       "      <td>positive</td>\n",
       "    </tr>\n",
       "    <tr>\n",
       "      <th>8</th>\n",
       "      <td>saya bersama keluarga baru saja menikmati peng...</td>\n",
       "      <td>positive</td>\n",
       "    </tr>\n",
       "    <tr>\n",
       "      <th>9</th>\n",
       "      <td>bersyukur</td>\n",
       "      <td>positive</td>\n",
       "    </tr>\n",
       "  </tbody>\n",
       "</table>\n",
       "</div>"
      ],
      "text/plain": [
       "                                               Tweet     Label\n",
       "0  warung ini dimiliki oleh pengusaha pabrik tahu...  positive\n",
       "1  mohon ulama lurus dan k mmbri hujjah partai ap...   neutral\n",
       "2  lokasi strategis di jalan sumatra bandung temp...  positive\n",
       "3  betapa bahagia nya diri ini saat unboxing pake...  positive\n",
       "4  aduh jadi mahasiswa jangan sombong dong kasih ...  negative\n",
       "5  makanan beragam harga makanan di food stall ak...  positive\n",
       "6  pakai kartu kredit baca tidak untung malah rug...  negative\n",
       "7  tempat unik bagus buat foto makanan enak pegaw...  positive\n",
       "8  saya bersama keluarga baru saja menikmati peng...  positive\n",
       "9                                          bersyukur  positive"
      ]
     },
     "execution_count": 2,
     "metadata": {},
     "output_type": "execute_result"
    }
   ],
   "source": [
    "# Load dataset from database\n",
    "\n",
    "db = sqlite3.connect('C:/Users/HP/BInar/WAN PLATINUM/database.db', check_same_thread = False)\n",
    "q_data = 'SELECT * FROM data'\n",
    "data = pd.read_sql_query(q_data, db)\n",
    "data.head(10)"
   ]
  },
  {
   "cell_type": "code",
   "execution_count": 3,
   "metadata": {},
   "outputs": [
    {
     "data": {
      "text/plain": [
       "positive    6383\n",
       "negative    3412\n",
       "neutral     1138\n",
       "Name: Label, dtype: int64"
      ]
     },
     "execution_count": 3,
     "metadata": {},
     "output_type": "execute_result"
    }
   ],
   "source": [
    "# Data distribution check\n",
    "\n",
    "data['Label'].value_counts()"
   ]
  },
  {
   "attachments": {},
   "cell_type": "markdown",
   "metadata": {},
   "source": [
    "## Feature-Label Classification"
   ]
  },
  {
   "cell_type": "code",
   "execution_count": 4,
   "metadata": {},
   "outputs": [],
   "source": [
    "# Group data tweet\n",
    "\n",
    "positive_tweet = data.loc[data['Label']=='positive'].Tweet.tolist()\n",
    "negative_tweet = data.loc[data['Label']=='negative'].Tweet.tolist()\n",
    "neutral_tweet = data.loc[data['Label']=='neutral'].Tweet.tolist()\n",
    "\n",
    "# Group data label\n",
    "\n",
    "positive_label = data.loc[data['Label']=='positive'].Label.tolist()\n",
    "negative_label = data.loc[data['Label']=='negative'].Label.tolist()\n",
    "neutral_label = data.loc[data['Label']=='neutral'].Label.tolist()"
   ]
  },
  {
   "cell_type": "code",
   "execution_count": 5,
   "metadata": {},
   "outputs": [
    {
     "name": "stdout",
     "output_type": "stream",
     "text": [
      "Positive: 6383, Negative: 3412, Neutral: 1138\n",
      "Total data: 10933\n",
      "Total labels: 10933\n"
     ]
    }
   ],
   "source": [
    "# Final sentiment data check\n",
    "\n",
    "total_data = positive_tweet + negative_tweet + neutral_tweet\n",
    "labels = positive_label + negative_label + neutral_label\n",
    "\n",
    "print(\"Positive: %s, Negative: %s, Neutral: %s\" % (len(positive_tweet), len(negative_tweet), len(neutral_tweet)))\n",
    "print(\"Total data: %s\" % len(total_data))\n",
    "print(\"Total labels: %s\" % len(labels))"
   ]
  },
  {
   "attachments": {},
   "cell_type": "markdown",
   "metadata": {},
   "source": [
    "## Feature Extraction"
   ]
  },
  {
   "cell_type": "code",
   "execution_count": 6,
   "metadata": {},
   "outputs": [
    {
     "name": "stdout",
     "output_type": "stream",
     "text": [
      "tokenizer.pickle has been created!\n",
      "x_pad_sequences.pickle has been created!\n",
      "tokenizer.pickle has been created!\n"
     ]
    }
   ],
   "source": [
    "max_features = 5000\n",
    "tokenizer = Tokenizer(num_words=max_features, split=' ', lower=True)\n",
    "tokenizer.fit_on_texts(total_data)\n",
    "\n",
    "with open('tokenizer.pickle', 'wb') as handle:\n",
    "    pickle.dump(tokenizer, handle, protocol=pickle.HIGHEST_PROTOCOL)\n",
    "print(\"tokenizer.pickle has been created!\")\n",
    "\n",
    "X = tokenizer.texts_to_sequences(total_data)\n",
    "vocab_size = len(tokenizer.word_index)\n",
    "maxlen = max(len(x) for x in X)\n",
    "\n",
    "X = pad_sequences(X)\n",
    "\n",
    "with open('x_pad_sequences.pickle', 'wb') as handle:\n",
    "    pickle.dump(X, handle, protocol=pickle.HIGHEST_PROTOCOL)\n",
    "print(\"x_pad_sequences.pickle has been created!\")\n",
    "with open('tokenizer.pickle', 'wb') as handle:\n",
    "    pickle.dump(tokenizer, handle, protocol=pickle.HIGHEST_PROTOCOL)\n",
    "print(\"tokenizer.pickle has been created!\")\n"
   ]
  },
  {
   "cell_type": "code",
   "execution_count": 7,
   "metadata": {},
   "outputs": [
    {
     "name": "stdout",
     "output_type": "stream",
     "text": [
      "y_labels.pickle has created!\n"
     ]
    }
   ],
   "source": [
    "Y = pd.get_dummies(labels)\n",
    "Y = Y.values\n",
    "\n",
    "with open('y_labels.pickle', 'wb') as handle:\n",
    "    pickle.dump(Y, handle, protocol=pickle.HIGHEST_PROTOCOL)\n",
    "    print(\"y_labels.pickle has created!\")"
   ]
  },
  {
   "attachments": {},
   "cell_type": "markdown",
   "metadata": {},
   "source": [
    "## Model Training"
   ]
  },
  {
   "attachments": {},
   "cell_type": "markdown",
   "metadata": {},
   "source": [
    "We will now train the ANN algorithm and perform 5-fold cross-validation to assess the stability of its performance."
   ]
  },
  {
   "cell_type": "code",
   "execution_count": 8,
   "metadata": {},
   "outputs": [
    {
     "name": "stdout",
     "output_type": "stream",
     "text": [
      "Epoch 1/100\n",
      "274/274 [==============================] - 12s 38ms/step - loss: 0.6483 - accuracy: 0.7270 - val_loss: 0.4755 - val_accuracy: 0.8011\n",
      "Epoch 2/100\n",
      "274/274 [==============================] - 10s 36ms/step - loss: 0.3822 - accuracy: 0.8536 - val_loss: 0.3654 - val_accuracy: 0.8656\n",
      "Epoch 3/100\n",
      "274/274 [==============================] - 11s 39ms/step - loss: 0.2806 - accuracy: 0.8934 - val_loss: 0.3520 - val_accuracy: 0.8651\n",
      "Epoch 4/100\n",
      "274/274 [==============================] - 9s 31ms/step - loss: 0.2254 - accuracy: 0.9138 - val_loss: 0.3713 - val_accuracy: 0.8619\n",
      "Epoch 5/100\n",
      "274/274 [==============================] - 9s 33ms/step - loss: 0.1889 - accuracy: 0.9268 - val_loss: 0.4532 - val_accuracy: 0.8482\n",
      "Epoch 6/100\n",
      "274/274 [==============================] - 8s 31ms/step - loss: 0.1534 - accuracy: 0.9410 - val_loss: 0.4107 - val_accuracy: 0.8628\n",
      "69/69 [==============================] - 1s 6ms/step\n",
      "Training - 1\n",
      "              precision    recall  f1-score   support\n",
      "\n",
      "           0       0.82      0.81      0.82       687\n",
      "           1       0.76      0.75      0.76       229\n",
      "           2       0.91      0.91      0.91      1271\n",
      "\n",
      "    accuracy                           0.87      2187\n",
      "   macro avg       0.83      0.83      0.83      2187\n",
      "weighted avg       0.86      0.87      0.86      2187\n",
      "\n",
      "======================================================\n",
      "Epoch 1/100\n",
      "274/274 [==============================] - 13s 42ms/step - loss: 0.7468 - accuracy: 0.6668 - val_loss: 0.4983 - val_accuracy: 0.8080\n",
      "Epoch 2/100\n",
      "274/274 [==============================] - 9s 34ms/step - loss: 0.4093 - accuracy: 0.8421 - val_loss: 0.3659 - val_accuracy: 0.8578\n",
      "Epoch 3/100\n",
      "274/274 [==============================] - 10s 35ms/step - loss: 0.2826 - accuracy: 0.8918 - val_loss: 0.3317 - val_accuracy: 0.8779\n",
      "Epoch 4/100\n",
      "274/274 [==============================] - 9s 32ms/step - loss: 0.2171 - accuracy: 0.9169 - val_loss: 0.3355 - val_accuracy: 0.8765\n",
      "Epoch 5/100\n",
      "274/274 [==============================] - 8s 31ms/step - loss: 0.1840 - accuracy: 0.9296 - val_loss: 0.3617 - val_accuracy: 0.8660\n",
      "Epoch 6/100\n",
      "274/274 [==============================] - 9s 32ms/step - loss: 0.1558 - accuracy: 0.9423 - val_loss: 0.3646 - val_accuracy: 0.8697\n",
      "69/69 [==============================] - 1s 8ms/step\n",
      "Training - 2\n",
      "              precision    recall  f1-score   support\n",
      "\n",
      "           0       0.84      0.80      0.82       645\n",
      "           1       0.76      0.83      0.80       221\n",
      "           2       0.92      0.93      0.92      1321\n",
      "\n",
      "    accuracy                           0.88      2187\n",
      "   macro avg       0.84      0.85      0.85      2187\n",
      "weighted avg       0.88      0.88      0.88      2187\n",
      "\n",
      "======================================================\n",
      "Epoch 1/100\n",
      "274/274 [==============================] - 13s 42ms/step - loss: 0.6813 - accuracy: 0.7040 - val_loss: 0.4958 - val_accuracy: 0.8070\n",
      "Epoch 2/100\n",
      "274/274 [==============================] - 10s 36ms/step - loss: 0.3832 - accuracy: 0.8557 - val_loss: 0.3752 - val_accuracy: 0.8601\n",
      "Epoch 3/100\n",
      "274/274 [==============================] - 10s 37ms/step - loss: 0.2772 - accuracy: 0.8992 - val_loss: 0.3522 - val_accuracy: 0.8633\n",
      "Epoch 4/100\n",
      "274/274 [==============================] - 9s 33ms/step - loss: 0.2139 - accuracy: 0.9214 - val_loss: 0.3591 - val_accuracy: 0.8615\n",
      "Epoch 5/100\n",
      "274/274 [==============================] - 10s 36ms/step - loss: 0.1790 - accuracy: 0.9355 - val_loss: 0.3721 - val_accuracy: 0.8647\n",
      "Epoch 6/100\n",
      "274/274 [==============================] - 9s 32ms/step - loss: 0.1469 - accuracy: 0.9464 - val_loss: 0.4021 - val_accuracy: 0.8665\n",
      "69/69 [==============================] - 1s 6ms/step\n",
      "Training - 3\n",
      "              precision    recall  f1-score   support\n",
      "\n",
      "           0       0.77      0.87      0.82       701\n",
      "           1       0.89      0.69      0.78       219\n",
      "           2       0.92      0.89      0.90      1267\n",
      "\n",
      "    accuracy                           0.86      2187\n",
      "   macro avg       0.86      0.82      0.83      2187\n",
      "weighted avg       0.87      0.86      0.86      2187\n",
      "\n",
      "======================================================\n",
      "Epoch 1/100\n",
      "274/274 [==============================] - 10s 33ms/step - loss: 0.6343 - accuracy: 0.7281 - val_loss: 0.4190 - val_accuracy: 0.8513\n",
      "Epoch 2/100\n",
      "274/274 [==============================] - 8s 30ms/step - loss: 0.3764 - accuracy: 0.8552 - val_loss: 0.3695 - val_accuracy: 0.8641\n",
      "Epoch 3/100\n",
      "274/274 [==============================] - 9s 34ms/step - loss: 0.2746 - accuracy: 0.8968 - val_loss: 0.3434 - val_accuracy: 0.8747\n",
      "Epoch 4/100\n",
      "274/274 [==============================] - 9s 35ms/step - loss: 0.2229 - accuracy: 0.9155 - val_loss: 0.3594 - val_accuracy: 0.8660\n",
      "Epoch 5/100\n",
      "274/274 [==============================] - 10s 35ms/step - loss: 0.1855 - accuracy: 0.9305 - val_loss: 0.3691 - val_accuracy: 0.8710\n",
      "Epoch 6/100\n",
      "274/274 [==============================] - 9s 31ms/step - loss: 0.1556 - accuracy: 0.9422 - val_loss: 0.4186 - val_accuracy: 0.8655\n",
      "69/69 [==============================] - 1s 6ms/step\n",
      "Training - 4\n",
      "              precision    recall  f1-score   support\n",
      "\n",
      "           0       0.83      0.82      0.82       694\n",
      "           1       0.79      0.83      0.81       228\n",
      "           2       0.91      0.91      0.91      1264\n",
      "\n",
      "    accuracy                           0.87      2186\n",
      "   macro avg       0.85      0.85      0.85      2186\n",
      "weighted avg       0.87      0.87      0.87      2186\n",
      "\n",
      "======================================================\n",
      "Epoch 1/100\n",
      "274/274 [==============================] - 10s 31ms/step - loss: 0.6182 - accuracy: 0.7397 - val_loss: 0.4490 - val_accuracy: 0.8362\n",
      "Epoch 2/100\n",
      "274/274 [==============================] - 8s 31ms/step - loss: 0.3595 - accuracy: 0.8600 - val_loss: 0.3694 - val_accuracy: 0.8678\n",
      "Epoch 3/100\n",
      "274/274 [==============================] - 9s 33ms/step - loss: 0.2659 - accuracy: 0.8999 - val_loss: 0.3637 - val_accuracy: 0.8687\n",
      "Epoch 4/100\n",
      "274/274 [==============================] - 9s 34ms/step - loss: 0.2073 - accuracy: 0.9221 - val_loss: 0.3578 - val_accuracy: 0.8779\n",
      "Epoch 5/100\n",
      "274/274 [==============================] - 9s 34ms/step - loss: 0.1786 - accuracy: 0.9343 - val_loss: 0.4619 - val_accuracy: 0.8628\n",
      "Epoch 6/100\n",
      "274/274 [==============================] - 10s 36ms/step - loss: 0.1549 - accuracy: 0.9418 - val_loss: 0.4270 - val_accuracy: 0.8705\n",
      "Epoch 7/100\n",
      "274/274 [==============================] - 10s 35ms/step - loss: 0.1351 - accuracy: 0.9488 - val_loss: 0.4486 - val_accuracy: 0.8628\n",
      "69/69 [==============================] - 1s 6ms/step\n",
      "Training - 5\n",
      "              precision    recall  f1-score   support\n",
      "\n",
      "           0       0.81      0.86      0.83       685\n",
      "           1       0.82      0.83      0.82       241\n",
      "           2       0.93      0.90      0.91      1260\n",
      "\n",
      "    accuracy                           0.88      2186\n",
      "   macro avg       0.85      0.86      0.86      2186\n",
      "weighted avg       0.88      0.88      0.88      2186\n",
      "\n",
      "======================================================\n",
      "\n",
      "\n",
      "\n",
      "Rata-rata Accuracy:  0.8718\n"
     ]
    }
   ],
   "source": [
    "# Model Training Cross Validation\n",
    "\n",
    "kf = KFold(n_splits=5, random_state=42, shuffle=True)\n",
    "accuracies = []\n",
    "\n",
    "y = Y\n",
    "\n",
    "embed_dim = 200 \n",
    "\n",
    "units = 64\n",
    "\n",
    "\n",
    "for iteration, data in enumerate(kf.split(X), start=1):\n",
    "    data_train = X[data[0]]\n",
    "    target_train = y[data[0]]\n",
    "\n",
    "    data_test = X[data[1]]\n",
    "    target_test = y[data[1]]\n",
    "    \n",
    "    # Create model architecture\n",
    "    model = Sequential()\n",
    "    model.add(Embedding(max_features, embed_dim, input_length=X.shape[1]))\n",
    "    model.add(SimpleRNN(units, dropout=0.8 ))\n",
    "    model.add(Dense(3,activation='softmax'))\n",
    "\n",
    "    model.compile(loss='categorical_crossentropy', optimizer='adam', metrics=['accuracy'])\n",
    "\n",
    "    # Define early stopping\n",
    "    es = EarlyStopping(monitor='val_loss', patience=3, restore_best_weights=True)\n",
    "\n",
    "    # Train the model with early stopping\n",
    "    history = model.fit(data_train, target_train, epochs=100, batch_size=32, \n",
    "                        validation_data=(data_test, target_test), verbose=1, callbacks=[es])\n",
    "\n",
    "    # Evaluate the model\n",
    "    predictions = model.predict(data_test)\n",
    "    y_pred = np.argmax(predictions, axis=1)\n",
    "\n",
    "    accuracy = accuracy_score(np.argmax(target_test, axis=1), y_pred)\n",
    "    accuracies.append(accuracy)\n",
    "\n",
    "    print(\"Training -\", iteration)\n",
    "    print(classification_report(np.argmax(target_test, axis=1), y_pred))\n",
    "    print(\"======================================================\")\n",
    "\n",
    "# Calculate average accuracy\n",
    "average_accuracy = np.mean(accuracies)\n",
    "\n",
    "print(\"\\n\\n\\nRata-rata Accuracy: \", round(average_accuracy, 4))\n"
   ]
  },
  {
   "attachments": {},
   "cell_type": "markdown",
   "metadata": {},
   "source": [
    "## Evaluation"
   ]
  },
  {
   "cell_type": "code",
   "execution_count": 9,
   "metadata": {},
   "outputs": [
    {
     "data": {
      "image/png": "[encoded data removed]",
      "text/plain": [
       "<Figure size 1200x500 with 2 Axes>"
      ]
     },
     "metadata": {},
     "output_type": "display_data"
    }
   ],
   "source": [
    "plt.style.use('ggplot')\n",
    "\n",
    "def plot_history(history):\n",
    "    acc = history.history['accuracy']\n",
    "    val_acc = history.history['val_accuracy']\n",
    "    loss = history.history['loss']\n",
    "    val_loss = history.history['val_loss']\n",
    "    epochs = range(1, len(acc) + 1)\n",
    "\n",
    "    plt.figure(figsize=(12, 5))\n",
    "\n",
    "    plt.subplot(1, 2, 1)\n",
    "    plt.plot(epochs, acc, 'b', label='Training Accuracy')\n",
    "    plt.plot(epochs, val_acc, 'r', label='Validation Accuracy')\n",
    "    plt.title('Training and Validation Accuracy')\n",
    "    plt.xlabel('Epochs')\n",
    "    plt.ylabel('Accuracy')\n",
    "    plt.legend()\n",
    "\n",
    "    plt.subplot(1, 2, 2)\n",
    "    plt.plot(epochs, loss, 'b', label='Training Loss')\n",
    "    plt.plot(epochs, val_loss, 'r', label='Validation Loss')\n",
    "    plt.title('Training and Validation Loss')\n",
    "    plt.xlabel('Epochs')\n",
    "    plt.ylabel('Loss')\n",
    "    plt.legend()\n",
    "\n",
    "    plt.tight_layout()\n",
    "    plt.show()\n",
    "\n",
    "%matplotlib inline\n",
    "plot_history(history)\n"
   ]
  },
  {
   "cell_type": "code",
   "execution_count": 10,
   "metadata": {},
   "outputs": [
    {
     "name": "stdout",
     "output_type": "stream",
     "text": [
      "Model has created!\n"
     ]
    }
   ],
   "source": [
    "# Save the model\n",
    "\n",
    "model.save('model.h5')\n",
    "print(\"Model has created!\")"
   ]
  },
  {
   "cell_type": "code",
   "execution_count": 11,
   "metadata": {},
   "outputs": [
    {
     "name": "stdout",
     "output_type": "stream",
     "text": [
      "1/1 [==============================] - 0s 140ms/step\n",
      "Text:  kamu jelek banget suaranya  \n",
      "Sentiment: negative\n"
     ]
    }
   ],
   "source": [
    "input_text = \"\"\"\n",
    "kamu jelek banget suaranya  \"\"\"\n",
    "\n",
    "def cleansing(sent):\n",
    "    string = sent.lower()\n",
    "    string = re.sub(r'[^a-zA-Z0-9]', ' ', string)\n",
    "    return string\n",
    "\n",
    "sentiment = ['negative', 'neutral', 'positive']\n",
    "\n",
    "text = [cleansing(input_text)]\n",
    "predicted = tokenizer.texts_to_sequences(text)\n",
    "guess = pad_sequences(predicted, maxlen=X.shape[1])\n",
    "\n",
    "model = load_model('model.h5')\n",
    "prediction = model.predict(guess)\n",
    "polarity = np.argmax(prediction[0])\n",
    "hasil = sentiment[polarity]\n",
    "\n",
    "print(\"Text: %s\" % text[0])\n",
    "print(\"Sentiment: %s\" % sentiment[polarity])"
   ]
  }
 ],
 "metadata": {
  "kernelspec": {
   "display_name": "envawan-8",
   "language": "python",
   "name": "python3"
  },
  "language_info": {
   "codemirror_mode": {
    "name": "ipython",
    "version": 3
   },
   "file_extension": ".py",
   "mimetype": "text/x-python",
   "name": "python",
   "nbconvert_exporter": "python",
   "pygments_lexer": "ipython3",
   "version": "3.8.16"
  },
  "orig_nbformat": 4
 },
 "nbformat": 4,
 "nbformat_minor": 2
}
